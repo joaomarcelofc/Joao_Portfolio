{
  "nbformat": 4,
  "nbformat_minor": 0,
  "metadata": {
    "colab": {
      "provenance": [],
      "collapsed_sections": []
    },
    "kernelspec": {
      "name": "python3",
      "display_name": "Python 3"
    },
    "language_info": {
      "name": "python"
    }
  },
  "cells": [
    {
      "cell_type": "markdown",
      "source": [
        "#**Estudando Estatística Básica com Python**\n",
        "\n",
        "\n",
        "A estatística envolve técnicas para coletar, organizar, descrever, analisar e interpretar dados provenientes de experimentos ou vindos de outros estudos observacionais.\n",
        "\n",
        "Neste notebook, iremos utilizar a linguagem de programação Python, com alguns pacotes básicos para demonstrar uma análise da natureza dos dados, avaliando os tipos de variáveis, frequência, medidas, representações gráficas, seguindo alguns princípios da estatística descritiva.\n",
        "\n",
        "<center><img width=\"80%\" src=\"https://img.freepik.com/fotos-gratis/grafico-de-analise-de-plano-de-reuniao-de-empresarios-estrategia-de-financas-da-empresa_74952-1347.jpg?w=826&t=st=1663895424~exp=1663896024~hmac=c5cad1736111cd4c2bf0b9bed0a5abb9b6966b036bd8a1a8ab6532019a75d0f8\"></center>\n"
      ],
      "metadata": {
        "id": "_XwP-G8aqsMs"
      }
    },
    {
      "cell_type": "markdown",
      "source": [
        "Conforme consta acima, iremos utilizar alguns princípio da estatística descritiva para realizar as nossas análises. Basicamente existem dois ramos principais da ciência estatística. São eles:\n",
        "\n",
        "**Estatística descritiva** - Estatísticas descritivas fornecem um resumo conciso dos dados. Os dados podem ser resumidos de forma numérica ou gráfica.\n",
        "\n",
        "**Estatística inferencial** - Estatísticas inferenciais usam uma amostra aleatória dos dados coletados de uma população para descrever e fazer inferências sobre a população. As estatísticas inferenciais são valiosas quando não é possível ou conveniente examinar cada membro de uma população inteira."
      ],
      "metadata": {
        "id": "HDblbhcRr8_V"
      }
    },
    {
      "cell_type": "markdown",
      "source": [
        "Agora vamos iniciar nossos trabalhos, importando os pacotes necessários para as análises.\n",
        "\n",
        "<center><img width=\"80%\" src=\"https://img.freepik.com/fotos-gratis/homem-jovem-afro-americano-de-esportes-na-posicao-inicial-pronto-para-comecar-na-pista-de-esportes-no-estadio_171337-9465.jpg?w=740&t=st=1663895525~exp=1663896125~hmac=787d24edb72ddcc965563b7274588225293ea12fb23b7918a04a31571755e961\"></center>"
      ],
      "metadata": {
        "id": "DCA__1Qzv12V"
      }
    },
    {
      "cell_type": "code",
      "source": [
        "# importando bibliotecas\n",
        "%matplotlib inline\n",
        "import pandas as pd\n",
        "import numpy as np\n",
        "import math\n",
        "import statistics\n",
        "import scipy.stats\n",
        "import matplotlib.pyplot as plt\n",
        "\n",
        "from collections import Counter\n",
        "from pandas_profiling import ProfileReport"
      ],
      "metadata": {
        "id": "WeReVDlvhpQS"
      },
      "execution_count": null,
      "outputs": []
    },
    {
      "cell_type": "markdown",
      "source": [
        "Vamos utilizar em nossas análises, um pequeno dataset para colocar em prática alguns conceitos básicos. Trabalharemos com a lista `num_friends`, que apresenta números inteiros e também float. Esse dataset apresenta uma lista de quantidade de amigos em uma rede social e, inclusive, é utilizado como exemplo de estudo no livro Data Science do Zero, de Joel Grus. "
      ],
      "metadata": {
        "id": "5GsTXkG0iXCr"
      }
    },
    {
      "cell_type": "code",
      "source": [
        "num_friends = [100.0,49,41,40,25,21,21,19,19,18,18,16,15,15,15,15,14,14,13,13,13,13,12,12,11,10,10,10,10,10,10,10,10,10,10,10,10,10,10,10,9,9,9,9,9,9,9,9,9,9,9,9,9,9,9,9,9,9,8,8,8,8,8,8,8,8,8,8,8,8,8,7,7,7,7,7,7,7,7,7,7,7,7,7,7,7,6,6,6,6,6,6,6,6,6,6,6,6,6,6,6,6,6,6,6,6,6,6,5,5,5,5,5,5,5,5,5,5,5,5,5,5,5,5,5,4,4,4,4,4,4,4,4,4,4,4,4,4,4,4,4,4,4,4,4,3,3,3,3,3,3,3,3,3,3,3,3,3,3,3,3,3,3,3,3,2,2,2,2,2,2,2,2,2,2,2,2,2,2,2,2,2,1,1,1,1,1,1,1,1,1,1,1,1,1,1,1,1,1,1,1,1,1,1]"
      ],
      "metadata": {
        "id": "rYIRy_CPh0uu"
      },
      "execution_count": null,
      "outputs": []
    },
    {
      "cell_type": "markdown",
      "source": [
        "##**Counter**\n",
        "\n",
        "Basicamente, um Counter é uma subclasse dict para contar objetos. É uma coleção onde os elementos são armazenados como chaves de dicionário e suas contagens são armazenadas como valores de dicionário. \n",
        "\n",
        "No exemplo abaixo, vamos verificar o funcionamento deste método, antes de aplicar ao nosso dataset."
      ],
      "metadata": {
        "id": "NSglO3AUyA19"
      }
    },
    {
      "cell_type": "code",
      "source": [
        "# criando um counter que recebe uma string como objeto\n",
        "c = Counter('abcdeabcdabcaba')\n",
        "\n",
        "# retorna a frequência de cada elemento \n",
        "c.most_common()"
      ],
      "metadata": {
        "colab": {
          "base_uri": "https://localhost:8080/"
        },
        "id": "itIOf05ykwvc",
        "outputId": "11868160-d798-4076-c8ff-ae8eeb6a4b24"
      },
      "execution_count": null,
      "outputs": [
        {
          "output_type": "execute_result",
          "data": {
            "text/plain": [
              "[('a', 5), ('b', 4), ('c', 3), ('d', 2), ('e', 1)]"
            ]
          },
          "metadata": {},
          "execution_count": 5
        }
      ]
    },
    {
      "cell_type": "code",
      "source": [
        "c"
      ],
      "metadata": {
        "colab": {
          "base_uri": "https://localhost:8080/"
        },
        "id": "y9xJxiar1RTX",
        "outputId": "0c297ab2-d9c2-406c-9504-1d9046c9d8c4"
      },
      "execution_count": null,
      "outputs": [
        {
          "output_type": "execute_result",
          "data": {
            "text/plain": [
              "Counter({'a': 5, 'b': 4, 'c': 3, 'd': 2, 'e': 1})"
            ]
          },
          "metadata": {},
          "execution_count": 6
        }
      ]
    },
    {
      "cell_type": "markdown",
      "source": [
        "No exemplo acima, após incluirmos o Counter em nosso objeto, estamos utilizando o método `most_common`, que retorna uma lista dos n elementos com sua frequência em que ocorrem no objeto.\n",
        "\n",
        "Notem que, após aplicar Counter na variável `c`, quando chamamos essa mesma variável, ela já nos demonstra a frequência de cada elemento em nosso objeto.\n",
        "\n",
        "Agora, vamos aplicar ao nosso dataset `num_friends`."
      ],
      "metadata": {
        "id": "2CJ0S3jd00h4"
      }
    },
    {
      "cell_type": "code",
      "source": [
        "# aplicando o método Counter em nossa lista\n",
        "num_friends = Counter(num_friends)\n",
        "\n",
        "# aplicando o most_common\n",
        "num_friends.most_common()"
      ],
      "metadata": {
        "colab": {
          "base_uri": "https://localhost:8080/"
        },
        "id": "8DG5xPNSlV2k",
        "outputId": "368ab655-8f13-449b-e061-3a0e0b7382da"
      },
      "execution_count": null,
      "outputs": [
        {
          "output_type": "execute_result",
          "data": {
            "text/plain": [
              "[(6, 22),\n",
              " (1, 22),\n",
              " (4, 20),\n",
              " (3, 20),\n",
              " (9, 18),\n",
              " (5, 17),\n",
              " (2, 17),\n",
              " (10, 15),\n",
              " (7, 15),\n",
              " (8, 13),\n",
              " (15, 4),\n",
              " (13, 4),\n",
              " (21, 2),\n",
              " (19, 2),\n",
              " (18, 2),\n",
              " (14, 2),\n",
              " (12, 2),\n",
              " (100.0, 1),\n",
              " (49, 1),\n",
              " (41, 1),\n",
              " (40, 1),\n",
              " (25, 1),\n",
              " (16, 1),\n",
              " (11, 1)]"
            ]
          },
          "metadata": {},
          "execution_count": 7
        }
      ]
    },
    {
      "cell_type": "markdown",
      "source": [
        "Ao aplicarmos o método `most_common` verificamos que ele ordena nossos elementos pela frequência em que ocorrem em nosso dataset.\n",
        "\n",
        "Se quisermos, por exemplo, saber a ocorrência dos 3 elementos mais frequentes, basta que passamos o número 3, como parâmetro no método."
      ],
      "metadata": {
        "id": "81UYh__f1y3u"
      }
    },
    {
      "cell_type": "code",
      "source": [
        "num_friends.most_common(3)"
      ],
      "metadata": {
        "colab": {
          "base_uri": "https://localhost:8080/"
        },
        "id": "Wz3Z6Mtl1uIk",
        "outputId": "204ddab5-0425-4636-d11c-9c8636febd9f"
      },
      "execution_count": null,
      "outputs": [
        {
          "output_type": "execute_result",
          "data": {
            "text/plain": [
              "[(6, 22), (1, 22), (4, 20)]"
            ]
          },
          "metadata": {},
          "execution_count": 8
        }
      ]
    },
    {
      "cell_type": "markdown",
      "source": [
        "Após aplicar Counter no dataset `num_friends`, quando chamamos o dataset novamente ele já é demonstrado com a frequência de cada elemento."
      ],
      "metadata": {
        "id": "A6gyM3CH2Tx1"
      }
    },
    {
      "cell_type": "code",
      "source": [
        "num_friends"
      ],
      "metadata": {
        "colab": {
          "base_uri": "https://localhost:8080/"
        },
        "id": "FChZ_rvF2Nn_",
        "outputId": "cc318098-da86-4733-b536-d246302ddef4"
      },
      "execution_count": null,
      "outputs": [
        {
          "output_type": "execute_result",
          "data": {
            "text/plain": [
              "Counter({100.0: 1,\n",
              "         49: 1,\n",
              "         41: 1,\n",
              "         40: 1,\n",
              "         25: 1,\n",
              "         21: 2,\n",
              "         19: 2,\n",
              "         18: 2,\n",
              "         16: 1,\n",
              "         15: 4,\n",
              "         14: 2,\n",
              "         13: 4,\n",
              "         12: 2,\n",
              "         11: 1,\n",
              "         10: 15,\n",
              "         9: 18,\n",
              "         8: 13,\n",
              "         7: 15,\n",
              "         6: 22,\n",
              "         5: 17,\n",
              "         4: 20,\n",
              "         3: 20,\n",
              "         2: 17,\n",
              "         1: 22})"
            ]
          },
          "metadata": {},
          "execution_count": 9
        }
      ]
    },
    {
      "cell_type": "markdown",
      "source": [
        "##**Ordenando o Dataset**\n",
        "\n",
        "Outro passo importante em nossa análise descritive é ordenar nosso dataset, para checarmos os dados que estamos utilizando. Através do método `sorted()` é possível ordenar pela ordem crescente de ocorrência, eliminando também os dados repetidos do nosso dataset."
      ],
      "metadata": {
        "id": "eEt31t5dyw5u"
      }
    },
    {
      "cell_type": "code",
      "source": [
        "# ordenando o dataset\n",
        "\n",
        "sorted_values = sorted(num_friends)\n",
        "sorted_values"
      ],
      "metadata": {
        "colab": {
          "base_uri": "https://localhost:8080/"
        },
        "id": "MCHjkKKWp8qV",
        "outputId": "a1be0502-41a8-4edf-f99b-9e64214d3dd6"
      },
      "execution_count": null,
      "outputs": [
        {
          "output_type": "execute_result",
          "data": {
            "text/plain": [
              "[1,\n",
              " 2,\n",
              " 3,\n",
              " 4,\n",
              " 5,\n",
              " 6,\n",
              " 7,\n",
              " 8,\n",
              " 9,\n",
              " 10,\n",
              " 11,\n",
              " 12,\n",
              " 13,\n",
              " 14,\n",
              " 15,\n",
              " 16,\n",
              " 18,\n",
              " 19,\n",
              " 21,\n",
              " 25,\n",
              " 40,\n",
              " 41,\n",
              " 49,\n",
              " 100.0]"
            ]
          },
          "metadata": {},
          "execution_count": 10
        }
      ]
    },
    {
      "cell_type": "markdown",
      "source": [
        "##**Histograma**\n",
        "\n",
        " histograma é uma espécie de gráfico de barras que demonstra uma distribuição de frequências. Pode ser construído utilizando o plano cartesiano\n",
        "em que o eixo X é representado pelas faixas de valores da variável e o eixo Y\n",
        "representa as freqüências ou as porcentagens associadas a cada uma das faixas de\n",
        "valores."
      ],
      "metadata": {
        "id": "np3JdGMGmrUp"
      }
    },
    {
      "cell_type": "markdown",
      "source": [
        "Para plotar nosso histograma, precisamos estabelecer quais serão os eixos x e y do nosso plano cartesiano. Conforme apresentado abaixo, no eixo x incluímos um `range` de 0 a 101, que é o maior valor presente em nosso dataset. No eixo y vamos colocar a quantidade de vezes em que o valor ocorre, ou seja, sua frequência.\n",
        "\n",
        "Para determinar essa frequência, utilizamos a iteração for, com um list comprehension. Ele vai percorrer cada valor do dataset, para cada ocorrência."
      ],
      "metadata": {
        "id": "7ZLaXeR4s2_f"
      }
    },
    {
      "cell_type": "code",
      "source": [
        "# eixo x do histograma\n",
        "xs = range(101)\n",
        "\n",
        "# eixo y do histograma\n",
        "ys = [num_friends[x] for x in xs]"
      ],
      "metadata": {
        "id": "JgX4DnEgmxa4"
      },
      "execution_count": null,
      "outputs": []
    },
    {
      "cell_type": "code",
      "source": [
        "plt.axis([0, 101, 0, 25])# eixo x de 0 a 100 eixo y de 0 a 25\n",
        "plt.bar(xs, ys)\n",
        "plt.title(\"Histograma de Número de Amigos\")\n",
        "plt.xlabel(\"Amigos\")\n",
        "plt.ylabel(\"Frequencia\")\n",
        "plt.show();"
      ],
      "metadata": {
        "colab": {
          "base_uri": "https://localhost:8080/",
          "height": 295
        },
        "id": "JXQPwsD27fXU",
        "outputId": "8ec619f4-25ff-4ebf-9a98-b509d5d01fba"
      },
      "execution_count": null,
      "outputs": [
        {
          "output_type": "display_data",
          "data": {
            "text/plain": [
              "<Figure size 432x288 with 1 Axes>"
            ],
            "image/png": "[encoded data removed]"
          },
          "metadata": {
            "needs_background": "light"
          }
        }
      ]
    },
    {
      "cell_type": "markdown",
      "source": [
        "Conforme observado acima, os valores mais frequentes em nosso dataset estão no intervalo entre 0 e 20."
      ],
      "metadata": {
        "id": "7WCxwSE3uAAs"
      }
    },
    {
      "cell_type": "markdown",
      "source": [
        "##**Maior Menor Valores**\n",
        "\n",
        "Para identificar o maior e menor valores do nosso dataset utilizamos o método `max()` e `min()`, aplicado ao nosso dataset."
      ],
      "metadata": {
        "id": "y07vZme_ycvY"
      }
    },
    {
      "cell_type": "code",
      "source": [
        "# maior valor do dataset\n",
        "maior_valor = max(num_friends)\n",
        "print(f'O maior valor do dataset é {maior_valor}.')\n",
        "\n",
        "# menor valor do dataset\n",
        "menor_valor = min(num_friends)\n",
        "print(f'O menor valor do dataset é {menor_valor}.')"
      ],
      "metadata": {
        "colab": {
          "base_uri": "https://localhost:8080/"
        },
        "id": "1cskcerypWav",
        "outputId": "8ba3af62-a2ec-4d81-95c1-e2d4c61d483d"
      },
      "execution_count": null,
      "outputs": [
        {
          "output_type": "stream",
          "name": "stdout",
          "text": [
            "O maior valor do dataset é 100.0.\n",
            "O menor valor do dataset é 1.\n"
          ]
        }
      ]
    },
    {
      "cell_type": "markdown",
      "source": [
        "##**Medidas de Tendência Central - Média**\n",
        "\n",
        "A tendência central é uma medida de valores numa amostra que identifica os diferentes pontos centrais nos dados analisados. As principais são a média, mediana e moda. \n",
        "\n",
        "A média é calculada somando-se todos os valores de um conjunto de dados e dividindo-se pelo número de elementos deste conjunto.\n",
        "\n",
        "Abaixo calculamos esse valor através de função criada no python, e também utilizando o numpy, método `np.mean`. Para realizar estes cálculos precisamos definir novamente o dataset, sem utilização do Counter."
      ],
      "metadata": {
        "id": "CFi6_2d8zB10"
      }
    },
    {
      "cell_type": "code",
      "source": [
        "num_friends = [100.0,49,41,40,25,21,21,19,19,18,18,16,15,15,15,15,14,14,13,13,13,13,12,12,11,10,10,10,10,10,10,10,10,10,10,10,10,10,10,10,9,9,9,9,9,9,9,9,9,9,9,9,9,9,9,9,9,9,8,8,8,8,8,8,8,8,8,8,8,8,8,7,7,7,7,7,7,7,7,7,7,7,7,7,7,7,6,6,6,6,6,6,6,6,6,6,6,6,6,6,6,6,6,6,6,6,6,6,5,5,5,5,5,5,5,5,5,5,5,5,5,5,5,5,5,4,4,4,4,4,4,4,4,4,4,4,4,4,4,4,4,4,4,4,4,3,3,3,3,3,3,3,3,3,3,3,3,3,3,3,3,3,3,3,3,2,2,2,2,2,2,2,2,2,2,2,2,2,2,2,2,2,1,1,1,1,1,1,1,1,1,1,1,1,1,1,1,1,1,1,1,1,1,1]"
      ],
      "metadata": {
        "id": "7kOek37zwOXG"
      },
      "execution_count": null,
      "outputs": []
    },
    {
      "cell_type": "code",
      "source": [
        "# tendência central média, utilizando função\n",
        "\n",
        "def media(x):\n",
        "  \"\"\"\n",
        "  x: list\n",
        "\n",
        "  return: float\n",
        "  \"\"\"\n",
        "  return sum(x) / len(x)"
      ],
      "metadata": {
        "id": "WpfT5BSkrh9c"
      },
      "execution_count": null,
      "outputs": []
    },
    {
      "cell_type": "code",
      "source": [
        "media(num_friends)"
      ],
      "metadata": {
        "colab": {
          "base_uri": "https://localhost:8080/"
        },
        "id": "cCWueARpuEcm",
        "outputId": "6ac4e49a-ae5e-48bb-d570-69d656b67825"
      },
      "execution_count": null,
      "outputs": [
        {
          "output_type": "execute_result",
          "data": {
            "text/plain": [
              "7.333333333333333"
            ]
          },
          "metadata": {},
          "execution_count": 16
        }
      ]
    },
    {
      "cell_type": "code",
      "source": [
        "num_friends = [100.0,49,41,40,25,21,21,19,19,18,18,16,15,15,15,15,14,14,13,13,13,13,12,12,11,10,10,10,10,10,10,10,10,10,10,10,10,10,10,10,9,9,9,9,9,9,9,9,9,9,9,9,9,9,9,9,9,9,8,8,8,8,8,8,8,8,8,8,8,8,8,7,7,7,7,7,7,7,7,7,7,7,7,7,7,7,6,6,6,6,6,6,6,6,6,6,6,6,6,6,6,6,6,6,6,6,6,6,5,5,5,5,5,5,5,5,5,5,5,5,5,5,5,5,5,4,4,4,4,4,4,4,4,4,4,4,4,4,4,4,4,4,4,4,4,3,3,3,3,3,3,3,3,3,3,3,3,3,3,3,3,3,3,3,3,2,2,2,2,2,2,2,2,2,2,2,2,2,2,2,2,2,1,1,1,1,1,1,1,1,1,1,1,1,1,1,1,1,1,1,1,1,1,1]"
      ],
      "metadata": {
        "id": "clADRQguvpv9"
      },
      "execution_count": null,
      "outputs": []
    },
    {
      "cell_type": "code",
      "source": [
        "# tendência central média, utilizando numpy\n",
        "\n",
        "np.mean(num_friends)"
      ],
      "metadata": {
        "colab": {
          "base_uri": "https://localhost:8080/"
        },
        "id": "mTLHz96yvyLr",
        "outputId": "15d2fb40-84f6-4ac0-dbe5-2dda8549d96e"
      },
      "execution_count": null,
      "outputs": [
        {
          "output_type": "execute_result",
          "data": {
            "text/plain": [
              "7.333333333333333"
            ]
          },
          "metadata": {},
          "execution_count": 18
        }
      ]
    },
    {
      "cell_type": "markdown",
      "source": [
        "##**Medidas de Tendência Central - Mediana**\n",
        "\n",
        "A mediana representa o valor central de um conjunto de dados. Para encontrar o valor da mediana é necessário colocar os valores em ordem crescente ou decrescente.\n",
        "\n",
        "Abaixo calculamos esse valor através de função criada no python, e também utilizando o numpy, método `np.median`. Para realizar estes cálculos precisamos definir novamente o dataset, sem utilização do Counter."
      ],
      "metadata": {
        "id": "ZpRGTyOmzIf6"
      }
    },
    {
      "cell_type": "code",
      "source": [
        "# tendência central mediana, utilizando função\n",
        "\n",
        "def median(x):\n",
        "  \"\"\"\n",
        "\n",
        "  \"\"\"\n",
        "  tamanho = len(x)\n",
        "  sorted_list = sorted(x)\n",
        "  ponto_meio = tamanho // 2\n",
        "  \n",
        "  if tamanho % 2 == 1:\n",
        "    return sorted_list[ponto_meio]\n",
        "  else:\n",
        "    lower = ponto_meio -1\n",
        "    upper = ponto_meio\n",
        "    return(sorted_list[lower] + sorted_list[upper]) / 2"
      ],
      "metadata": {
        "id": "3oTO_d8PuKUr"
      },
      "execution_count": null,
      "outputs": []
    },
    {
      "cell_type": "code",
      "source": [
        "median(num_friends)"
      ],
      "metadata": {
        "colab": {
          "base_uri": "https://localhost:8080/"
        },
        "id": "A8c6YXXEwIys",
        "outputId": "f79ea553-a52c-44f8-d7f6-528fbf630dca"
      },
      "execution_count": null,
      "outputs": [
        {
          "output_type": "execute_result",
          "data": {
            "text/plain": [
              "6.0"
            ]
          },
          "metadata": {},
          "execution_count": 20
        }
      ]
    },
    {
      "cell_type": "code",
      "source": [
        "# tendência central mediana, utilizando numpy\n",
        "\n",
        "np.median(num_friends)"
      ],
      "metadata": {
        "colab": {
          "base_uri": "https://localhost:8080/"
        },
        "id": "8e4_ASVLxeSR",
        "outputId": "2b03f77b-38f2-48ca-e2e6-fc905959372b"
      },
      "execution_count": null,
      "outputs": [
        {
          "output_type": "execute_result",
          "data": {
            "text/plain": [
              "6.0"
            ]
          },
          "metadata": {},
          "execution_count": 21
        }
      ]
    },
    {
      "cell_type": "markdown",
      "source": [
        "##**Medidas de Tendência Central - Moda**\n",
        "\n",
        "A moda representa o valor mais frequente de um conjunto de dados, sendo assim, para defini-la basta observar a frequência com que os valores aparecem.\n",
        "\n",
        "Abaixo calculamos esse valor através do método `most_common` no python, e também utilizando o método `scipy.stats.mode()`."
      ],
      "metadata": {
        "id": "b_ZIYwkgzSCo"
      }
    },
    {
      "cell_type": "code",
      "source": [
        "# tendência central moda, utilizando método most_common\n",
        "num_friends = Counter(num_friends)\n",
        "\n",
        "# aplicando método most_common\n",
        "print(num_friends.most_common(),end=' ')\n"
      ],
      "metadata": {
        "id": "CEwk8WuHztcd",
        "colab": {
          "base_uri": "https://localhost:8080/"
        },
        "outputId": "0064460a-a1bc-4401-8733-d4c0259ab857"
      },
      "execution_count": null,
      "outputs": [
        {
          "output_type": "stream",
          "name": "stdout",
          "text": [
            "[(6, 22), (1, 22), (4, 20), (3, 20), (9, 18), (5, 17), (2, 17), (10, 15), (7, 15), (8, 13), (15, 4), (13, 4), (21, 2), (19, 2), (18, 2), (14, 2), (12, 2), (100.0, 1), (49, 1), (41, 1), (40, 1), (25, 1), (16, 1), (11, 1)] "
          ]
        }
      ]
    },
    {
      "cell_type": "markdown",
      "source": [
        "Conforme verificado acima, nosso dataset é bimodal, apresentando duas modas que são os valores 6 e 1, que ocorreram 22 vezes em nosso dataset. Abaixo calculamos a moda pelo método scipy.stats.mode(). Ponto importante é que ele não demonstra quando existe mais de uma moda, aparecendo apenas o primeiro valor."
      ],
      "metadata": {
        "id": "zT4FFb1pvrWN"
      }
    },
    {
      "cell_type": "code",
      "source": [
        "# tendência central moda, utilizando scipy.stats.mode()\n",
        "\n",
        "scipy.stats.mode(num_friends)"
      ],
      "metadata": {
        "colab": {
          "base_uri": "https://localhost:8080/"
        },
        "id": "9l7OGh8AyItS",
        "outputId": "7e08932a-aaf3-40ce-e1ae-149927e1730f"
      },
      "execution_count": null,
      "outputs": [
        {
          "output_type": "execute_result",
          "data": {
            "text/plain": [
              "ModeResult(mode=array([1.]), count=array([22]))"
            ]
          },
          "metadata": {},
          "execution_count": 24
        }
      ]
    },
    {
      "cell_type": "markdown",
      "source": [
        "##**Medidas de Dispersão - Variância**\n",
        "\n",
        "Na estatística, a variância é uma medida de dispersão que mostra o quão distante cada valor do conjunto está do valor central (médio). Quanto menor é a variância, mais próximos os valores estão da média; mas quanto maior ela é, mais os valores estão distantes da média. Ela é expressa em unidades quadradas.\n",
        "\n",
        "Abaixo calculamos esse valor através do numpy, método `np.var()`. Para realizar estes cálculos precisamos definir novamente o dataset, sem utilização do Counter."
      ],
      "metadata": {
        "id": "rIX5AzISzbHJ"
      }
    },
    {
      "cell_type": "code",
      "source": [
        "num_friends = [100.0,49,41,40,25,21,21,19,19,18,18,16,15,15,15,15,14,14,13,13,13,13,12,12,11,10,10,10,10,10,10,10,10,10,10,10,10,10,10,10,9,9,9,9,9,9,9,9,9,9,9,9,9,9,9,9,9,9,8,8,8,8,8,8,8,8,8,8,8,8,8,7,7,7,7,7,7,7,7,7,7,7,7,7,7,7,6,6,6,6,6,6,6,6,6,6,6,6,6,6,6,6,6,6,6,6,6,6,5,5,5,5,5,5,5,5,5,5,5,5,5,5,5,5,5,4,4,4,4,4,4,4,4,4,4,4,4,4,4,4,4,4,4,4,4,3,3,3,3,3,3,3,3,3,3,3,3,3,3,3,3,3,3,3,3,2,2,2,2,2,2,2,2,2,2,2,2,2,2,2,2,2,1,1,1,1,1,1,1,1,1,1,1,1,1,1,1,1,1,1,1,1,1,1]"
      ],
      "metadata": {
        "id": "O6kUBRPixfKe"
      },
      "execution_count": null,
      "outputs": []
    },
    {
      "cell_type": "code",
      "source": [
        "np.var(num_friends)"
      ],
      "metadata": {
        "id": "4rkBDsQizfan",
        "colab": {
          "base_uri": "https://localhost:8080/"
        },
        "outputId": "1465c510-c810-47e6-9d08-a5c17d9e40d0"
      },
      "execution_count": null,
      "outputs": [
        {
          "output_type": "execute_result",
          "data": {
            "text/plain": [
              "81.14379084967321"
            ]
          },
          "metadata": {},
          "execution_count": 143
        }
      ]
    },
    {
      "cell_type": "markdown",
      "source": [
        "##**Medidas de Dispersão - Desvio Padrão**\n",
        "\n",
        "O desvio padrão também é uma medida de dispersão de observações dentro de um conjunto de dados. Por ser a raíz quadrada variância, ele apresenta \tas mesmas unidades que os valores no conjunto de dados, sendo uma medida de dispersão mais precisa, e também a mais utilizada.\n",
        "\n",
        "Abaixo calculamos esse valor através do numpy, método `np.std()`."
      ],
      "metadata": {
        "id": "27vXQ0BRzfy0"
      }
    },
    {
      "cell_type": "code",
      "source": [
        "np.std(num_friends)"
      ],
      "metadata": {
        "id": "e7-6Kg_UzjA5",
        "colab": {
          "base_uri": "https://localhost:8080/"
        },
        "outputId": "153f32d5-186a-493c-8774-82621b7148bb"
      },
      "execution_count": null,
      "outputs": [
        {
          "output_type": "execute_result",
          "data": {
            "text/plain": [
              "9.007984838446012"
            ]
          },
          "metadata": {},
          "execution_count": 144
        }
      ]
    },
    {
      "cell_type": "markdown",
      "source": [
        "##**Describe**\n",
        "\n",
        "O método describe() é um método do Pandas utilizado para visualizar alguns detalhes estatísticos básicos como percentil, média, padrão, etc. de um quadro de dados ou uma série de valores numéricos.\n",
        "\n",
        "Por se tratar de um método Pandas, precisamos converter nosso dataset, que está em formato de lista, para formato de dataframe, através do método `pd.DataFrame().` Após realizada a conversão, utilizamos o método `describe()`, que nos mostra um resumo dos detalhes estatísticos dos dados analisados, muitos deles já calculados anteriormente neste notebook."
      ],
      "metadata": {
        "id": "s_Bqn_X5yR45"
      }
    },
    {
      "cell_type": "code",
      "source": [
        "# convertendo para dataframe e inserindo o describe\n",
        "df = pd.DataFrame(num_friends)\n",
        "df.describe()"
      ],
      "metadata": {
        "id": "hzKwq8cfpH8n",
        "colab": {
          "base_uri": "https://localhost:8080/",
          "height": 300
        },
        "outputId": "f87c5736-72c1-495f-849d-12ec404fb33f"
      },
      "execution_count": null,
      "outputs": [
        {
          "output_type": "execute_result",
          "data": {
            "text/plain": [
              "                0\n",
              "count  204.000000\n",
              "mean     7.333333\n",
              "std      9.030145\n",
              "min      1.000000\n",
              "25%      3.000000\n",
              "50%      6.000000\n",
              "75%      9.000000\n",
              "max    100.000000"
            ],
            "text/html": [
              "\n",
              "  <div id=\"df-7d4260ba-8768-4bb6-8914-f69bbcf8f063\">\n",
              "    <div class=\"colab-df-container\">\n",
              "      <div>\n",
              "<style scoped>\n",
              "    .dataframe tbody tr th:only-of-type {\n",
              "        vertical-align: middle;\n",
              "    }\n",
              "\n",
              "    .dataframe tbody tr th {\n",
              "        vertical-align: top;\n",
              "    }\n",
              "\n",
              "    .dataframe thead th {\n",
              "        text-align: right;\n",
              "    }\n",
              "</style>\n",
              "<table border=\"1\" class=\"dataframe\">\n",
              "  <thead>\n",
              "    <tr style=\"text-align: right;\">\n",
              "      <th></th>\n",
              "      <th>0</th>\n",
              "    </tr>\n",
              "  </thead>\n",
              "  <tbody>\n",
              "    <tr>\n",
              "      <th>count</th>\n",
              "      <td>204.000000</td>\n",
              "    </tr>\n",
              "    <tr>\n",
              "      <th>mean</th>\n",
              "      <td>7.333333</td>\n",
              "    </tr>\n",
              "    <tr>\n",
              "      <th>std</th>\n",
              "      <td>9.030145</td>\n",
              "    </tr>\n",
              "    <tr>\n",
              "      <th>min</th>\n",
              "      <td>1.000000</td>\n",
              "    </tr>\n",
              "    <tr>\n",
              "      <th>25%</th>\n",
              "      <td>3.000000</td>\n",
              "    </tr>\n",
              "    <tr>\n",
              "      <th>50%</th>\n",
              "      <td>6.000000</td>\n",
              "    </tr>\n",
              "    <tr>\n",
              "      <th>75%</th>\n",
              "      <td>9.000000</td>\n",
              "    </tr>\n",
              "    <tr>\n",
              "      <th>max</th>\n",
              "      <td>100.000000</td>\n",
              "    </tr>\n",
              "  </tbody>\n",
              "</table>\n",
              "</div>\n",
              "      <button class=\"colab-df-convert\" onclick=\"convertToInteractive('df-7d4260ba-8768-4bb6-8914-f69bbcf8f063')\"\n",
              "              title=\"Convert this dataframe to an interactive table.\"\n",
              "              style=\"display:none;\">\n",
              "        \n",
              "  <svg xmlns=\"http://www.w3.org/2000/svg\" height=\"24px\"viewBox=\"0 0 24 24\"\n",
              "       width=\"24px\">\n",
              "    <path d=\"M0 0h24v24H0V0z\" fill=\"none\"/>\n",
              "    <path d=\"M18.56 5.44l.94 2.06.94-2.06 2.06-.94-2.06-.94-.94-2.06-.94 2.06-2.06.94zm-11 1L8.5 8.5l.94-2.06 2.06-.94-2.06-.94L8.5 2.5l-.94 2.06-2.06.94zm10 10l.94 2.06.94-2.06 2.06-.94-2.06-.94-.94-2.06-.94 2.06-2.06.94z\"/><path d=\"M17.41 7.96l-1.37-1.37c-.4-.4-.92-.59-1.43-.59-.52 0-1.04.2-1.43.59L10.3 9.45l-7.72 7.72c-.78.78-.78 2.05 0 2.83L4 21.41c.39.39.9.59 1.41.59.51 0 1.02-.2 1.41-.59l7.78-7.78 2.81-2.81c.8-.78.8-2.07 0-2.86zM5.41 20L4 18.59l7.72-7.72 1.47 1.35L5.41 20z\"/>\n",
              "  </svg>\n",
              "      </button>\n",
              "      \n",
              "  <style>\n",
              "    .colab-df-container {\n",
              "      display:flex;\n",
              "      flex-wrap:wrap;\n",
              "      gap: 12px;\n",
              "    }\n",
              "\n",
              "    .colab-df-convert {\n",
              "      background-color: #E8F0FE;\n",
              "      border: none;\n",
              "      border-radius: 50%;\n",
              "      cursor: pointer;\n",
              "      display: none;\n",
              "      fill: #1967D2;\n",
              "      height: 32px;\n",
              "      padding: 0 0 0 0;\n",
              "      width: 32px;\n",
              "    }\n",
              "\n",
              "    .colab-df-convert:hover {\n",
              "      background-color: #E2EBFA;\n",
              "      box-shadow: 0px 1px 2px rgba(60, 64, 67, 0.3), 0px 1px 3px 1px rgba(60, 64, 67, 0.15);\n",
              "      fill: #174EA6;\n",
              "    }\n",
              "\n",
              "    [theme=dark] .colab-df-convert {\n",
              "      background-color: #3B4455;\n",
              "      fill: #D2E3FC;\n",
              "    }\n",
              "\n",
              "    [theme=dark] .colab-df-convert:hover {\n",
              "      background-color: #434B5C;\n",
              "      box-shadow: 0px 1px 3px 1px rgba(0, 0, 0, 0.15);\n",
              "      filter: drop-shadow(0px 1px 2px rgba(0, 0, 0, 0.3));\n",
              "      fill: #FFFFFF;\n",
              "    }\n",
              "  </style>\n",
              "\n",
              "      <script>\n",
              "        const buttonEl =\n",
              "          document.querySelector('#df-7d4260ba-8768-4bb6-8914-f69bbcf8f063 button.colab-df-convert');\n",
              "        buttonEl.style.display =\n",
              "          google.colab.kernel.accessAllowed ? 'block' : 'none';\n",
              "\n",
              "        async function convertToInteractive(key) {\n",
              "          const element = document.querySelector('#df-7d4260ba-8768-4bb6-8914-f69bbcf8f063');\n",
              "          const dataTable =\n",
              "            await google.colab.kernel.invokeFunction('convertToInteractive',\n",
              "                                                     [key], {});\n",
              "          if (!dataTable) return;\n",
              "\n",
              "          const docLinkHtml = 'Like what you see? Visit the ' +\n",
              "            '<a target=\"_blank\" href=https://colab.research.google.com/notebooks/data_table.ipynb>data table notebook</a>'\n",
              "            + ' to learn more about interactive tables.';\n",
              "          element.innerHTML = '';\n",
              "          dataTable['output_type'] = 'display_data';\n",
              "          await google.colab.output.renderOutput(dataTable, element);\n",
              "          const docLink = document.createElement('div');\n",
              "          docLink.innerHTML = docLinkHtml;\n",
              "          element.appendChild(docLink);\n",
              "        }\n",
              "      </script>\n",
              "    </div>\n",
              "  </div>\n",
              "  "
            ]
          },
          "metadata": {},
          "execution_count": 148
        }
      ]
    },
    {
      "cell_type": "markdown",
      "source": [
        "##**Boxplot**\n",
        "\n",
        "O Boxplot é um gráfico para representar dados quantitativos sendo conveniente\n",
        "para revelar medidas de tendência central, dispersão, distribuição dos dados e a\n",
        "presença de outliers (valores discrepantes).\n",
        "\n",
        "Um das formas simplificadas de plotar o boxplot é aplicando o método `.plot.box` diretamente em nosso dataframe, convertido acima.\n",
        "\n",
        "Naturalmente existem outras configurações e ajustes que podem ser realizados para melhorar a visualização."
      ],
      "metadata": {
        "id": "4E3kbQMuz-jH"
      }
    },
    {
      "cell_type": "code",
      "source": [
        "df.plot.box(vert=False, figsize=(15,3))\n",
        "plt.show()"
      ],
      "metadata": {
        "colab": {
          "base_uri": "https://localhost:8080/",
          "height": 316
        },
        "id": "KOv1T9H12q5Y",
        "outputId": "9d86681a-34ea-490b-b151-0f95664685d4"
      },
      "execution_count": null,
      "outputs": [
        {
          "output_type": "display_data",
          "data": {
            "text/plain": [
              "<Figure size 1500x300 with 1 Axes>"
            ],
            "image/png": "[encoded data removed]"
          },
          "metadata": {}
        }
      ]
    },
    {
      "cell_type": "markdown",
      "source": [
        "No boxplot acima é possível verificar que os dados de nosso conjunto estão situados, em sua maioria no intervalo entre 0 e 20. Acima deste valor, representados como pontinhos no gráfico, estão os nossos outliers, que são os valores mais distoantes do nosso conjunto de dados."
      ],
      "metadata": {
        "id": "wskC7PON4SkE"
      }
    }
  ]
}