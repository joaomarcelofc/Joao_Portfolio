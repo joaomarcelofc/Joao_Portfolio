{
  "nbformat": 4,
  "nbformat_minor": 0,
  "metadata": {
    "colab": {
      "provenance": [],
      "collapsed_sections": []
    },
    "kernelspec": {
      "name": "python3",
      "display_name": "Python 3"
    }
  },
  "cells": [
    {
      "cell_type": "markdown",
      "metadata": {
        "id": "jjYq8hKyOM3T"
      },
      "source": [
        "<img alt=\"Colaboratory logo\" width=\"15%\" src=\"https://raw.githubusercontent.com/carlosfab/escola-data-science/master/img/novo_logo_bg_claro.png\">\n",
        "\n",
        "#### **Python do Zero**\n",
        "*by [sigmoidal.ai](https://sigmoidal.ai)*\n",
        "\n",
        "---\n",
        "\n",
        "# Analisando sua Caixa de Emails\n",
        "\n",
        "Todos os dias recebemos uma grande quantidade de e-mails que nos trazem variados tipos de informações em diversos formatos. Mas como organizar, entender e trabalhar com todos esses dados disponíveis?\n",
        "\n",
        "\n",
        "<center><img width=\"50%\" src=\"https://image.freepik.com/free-vector/mail-sent-concept-illustration_114360-168.jpg\"></center>\n",
        "\n",
        "Nessa aula, veremos como acessar, baixar e trabalhar com os dados que recebemos por e-mail."
      ]
    },
    {
      "cell_type": "markdown",
      "metadata": {
        "id": "MMk0flsQA6ZH"
      },
      "source": [
        "## Coletando os Dados\n",
        "\n",
        "Antes de começar, você vai precisar acessar sua conta do **Gmail**. Faça o login no mesmo navegador que você está utilizando agora, pois será necessário se conectar à sua conta.\n",
        "\n",
        "Quando você estiver logado, clique [aqui](https://takeout.google.com/settings/takeout).\n",
        "\n",
        "Na página do Google Takeout, ele te oferece diversas opções de dados de serviços Google a serem baixados. Entretanto, aqui estamos focados em e-mails, portanto, vamos **Desmarcar Tudo**.\n",
        "\n",
        "<center><img width=\"50%\" src=\"https://github.com/rafaelnduarte/sigmoidal_data/blob/master/Screen%20Shot%202020-09-16%20at%2011.09.01%20AM.png?raw=true\"></center>\n",
        "\n",
        "Assim, ele irá fazer o download apenas do que nós selecionarmos. Vamos selecionar **apenas o Gmail**, e seguir para o próximo passo, onde vamos configurar as opções de download.\n",
        "\n",
        "<center><img width=\"50%\" src=\"https://github.com/rafaelnduarte/sigmoidal_data/blob/master/Screen%20Shot%202020-09-16%20at%2011.09.17%20AM.png?raw=true\"></center>\n",
        "\n",
        "No próximo passo, vamos selecionar que o link de download seja enviado por e-mail, que os dados sejam exportados apenas uma vez,  vamos selecionar o formato `.zip`, e selecionar o tamanho do arquivo para 50GB.\n",
        "\n",
        "<center><img width=\"50%\" src=\"https://github.com/rafaelnduarte/sigmoidal_data/blob/master/Screen%20Shot%202020-09-16%20at%2011.19.50%20AM.png?raw=true\"></center>\n",
        "\n",
        "Atenção! Os dados podem demorar bastante para serem enviados, a depender do tamanho do arquivo que será gerado, caso sua caixa esteja muito cheia. É importante entender que o processo pode demorar. Mais dados nos ajudam a ter uma noção melhor do que está acontecendo, mas, caso prefira, é possível coletar um volume menor de dados.\n",
        "\n",
        "O processo pode levar várias horas, e até mais de um dia. Tenha paciência, e assim que receber e baixar, dê seguimento ao projeto por aqui."
      ]
    },
    {
      "cell_type": "code",
      "metadata": {
        "id": "xRiwElxQ7w88"
      },
      "source": [
        "# importando os pacotes necessários\n",
        "import pandas as pd\n",
        "import numpy as np\n",
        "import matplotlib.pyplot as plt\n",
        "import mailbox\n",
        "import re\n",
        "import pytz\n",
        "import seaborn as sns"
      ],
      "execution_count": null,
      "outputs": []
    },
    {
      "cell_type": "markdown",
      "metadata": {
        "id": "1APqUyjqTcCq"
      },
      "source": [
        "## Carregando os Dados\n",
        "Após fazer o download do arquivo .zip, faça o upload do mesmo para o Colab através da aba de arquivos à esquerda do navegador. Uma vez lá, copie o caminho, e use esse endereço para carregar o arquivo como fizemos abaixo."
      ]
    },
    {
      "cell_type": "code",
      "metadata": {
        "id": "ivRnPgeDJJmk",
        "colab": {
          "base_uri": "https://localhost:8080/",
          "height": 89
        },
        "outputId": "4b0efe3c-2878-4130-8aa7-ecfc4529477c"
      },
      "source": [
        "!unzip /content/takeout-20200914T185247Z-001.zip"
      ],
      "execution_count": null,
      "outputs": [
        {
          "output_type": "stream",
          "text": [
            "Archive:  /content/takeout-20200914T185247Z-001.zip\n",
            "  inflating: Takeout/E-mail/Configurações do usuário/Filtros.json  \n",
            "  inflating: Takeout/E-mail/Todos os e-mails, incluindo Spam e Lixeira.mbox  \n",
            "  inflating: Takeout/navegador_arquivo.html  \n"
          ],
          "name": "stdout"
        }
      ]
    },
    {
      "cell_type": "markdown",
      "metadata": {
        "id": "Aq5VP2qITya8"
      },
      "source": [
        "Agora que fizemos o upload e descompactamos o arquivo, é hora de carregar os dados do nosso e-mail. Para isso, vamos utilizar a biblioteca `mailbox` para carregar o arquivo do tipo `mbox` contido no nosso arquivo zip."
      ]
    },
    {
      "cell_type": "code",
      "metadata": {
        "id": "r2kSgDGG8Sei"
      },
      "source": [
        "# carregando o arquivo\n",
        "mbox = mailbox.mbox(\"/content/Takeout/E-mail/Todos os e-mails, incluindo Spam e Lixeira.mbox\")"
      ],
      "execution_count": null,
      "outputs": []
    },
    {
      "cell_type": "code",
      "metadata": {
        "id": "gsSzk35S-KT0",
        "colab": {
          "base_uri": "https://localhost:8080/",
          "height": 521
        },
        "outputId": "2c056bdf-5b3e-486b-d16a-606810535c1e"
      },
      "source": [
        "# visualizando as chaves\n",
        "mbox[0].keys()"
      ],
      "execution_count": null,
      "outputs": [
        {
          "output_type": "execute_result",
          "data": {
            "text/plain": [
              "['X-GM-THRID',\n",
              " 'X-Gmail-Labels',\n",
              " 'Delivered-To',\n",
              " 'Received',\n",
              " 'X-Google-Smtp-Source',\n",
              " 'X-Received',\n",
              " 'ARC-Seal',\n",
              " 'ARC-Message-Signature',\n",
              " 'ARC-Authentication-Results',\n",
              " 'Return-Path',\n",
              " 'Received',\n",
              " 'Received-SPF',\n",
              " 'Authentication-Results',\n",
              " 'DKIM-Signature',\n",
              " 'DKIM-Signature',\n",
              " 'From',\n",
              " 'Message-ID',\n",
              " 'Subject',\n",
              " 'MIME-Version',\n",
              " 'Content-Type',\n",
              " 'To',\n",
              " 'Date',\n",
              " 'X-LinkedIn-Class',\n",
              " 'X-LinkedIn-Template',\n",
              " 'X-LinkedIn-fbl',\n",
              " 'X-LinkedIn-Id',\n",
              " 'List-Unsubscribe',\n",
              " 'Require-Recipient-Valid-Since']"
            ]
          },
          "metadata": {
            "tags": []
          },
          "execution_count": 8
        }
      ]
    },
    {
      "cell_type": "markdown",
      "metadata": {
        "id": "RQNa-bKiUm4C"
      },
      "source": [
        "## Criando o Data Frame\n",
        "Para que possamos trabalhar melhor com esses dados, vamos extrair os mesmos, salvá-los em um dicionário e construir com ele um data frame.\n",
        "\n",
        "Para isso, vamos criar um dicionário, onde as chaves são as informações que queremos puxar, e os valores serão as entradas de cada e-mail, para cada variável de interesse.\n",
        "\n",
        "Criaremos um loop for, para percorrer nosso arqvuio mbox, e pra cada mensagem, pegar as informações e adicioná-las aoo nosso dicionário."
      ]
    },
    {
      "cell_type": "code",
      "metadata": {
        "id": "GAGjVkbVF7zi"
      },
      "source": [
        "# criando o dicionário\n",
        "email_dict = {\n",
        "    'date': [],\n",
        "    'from': [],\n",
        "    'to': [],\n",
        "    'subject': [],\n",
        "    'labels': []\n",
        "}\n",
        "\n",
        "# coletando os dados\n",
        "for message in mbox:\n",
        "    email_dict['date'].append(message['date'])\n",
        "    email_dict['from'].append(message['from'])\n",
        "    email_dict['to'].append(message['to'])\n",
        "    email_dict['subject'].append(message['subject'])\n",
        "    email_dict['labels'].append(message['X-Gmail-Labels'])"
      ],
      "execution_count": null,
      "outputs": []
    },
    {
      "cell_type": "code",
      "metadata": {
        "id": "YgCgQrryJ8fJ"
      },
      "source": [
        "# transformando em dataframe\n",
        "df = pd.DataFrame(email_dict)"
      ],
      "execution_count": null,
      "outputs": []
    },
    {
      "cell_type": "code",
      "metadata": {
        "id": "Bfozb_IvMAPO",
        "colab": {
          "base_uri": "https://localhost:8080/",
          "height": 289
        },
        "outputId": "321805f7-c811-41a9-91ab-e15769f540ce"
      },
      "source": [
        "# visualizando as primeiras entradas\n",
        "df.head()"
      ],
      "execution_count": null,
      "outputs": [
        {
          "output_type": "execute_result",
          "data": {
            "text/html": [
              "<div>\n",
              "<style scoped>\n",
              "    .dataframe tbody tr th:only-of-type {\n",
              "        vertical-align: middle;\n",
              "    }\n",
              "\n",
              "    .dataframe tbody tr th {\n",
              "        vertical-align: top;\n",
              "    }\n",
              "\n",
              "    .dataframe thead th {\n",
              "        text-align: right;\n",
              "    }\n",
              "</style>\n",
              "<table border=\"1\" class=\"dataframe\">\n",
              "  <thead>\n",
              "    <tr style=\"text-align: right;\">\n",
              "      <th></th>\n",
              "      <th>date</th>\n",
              "      <th>from</th>\n",
              "      <th>to</th>\n",
              "      <th>subject</th>\n",
              "      <th>labels</th>\n",
              "    </tr>\n",
              "  </thead>\n",
              "  <tbody>\n",
              "    <tr>\n",
              "      <th>0</th>\n",
              "      <td>Thu, 10 Sep 2020 11:15:52 +0000 (UTC)</td>\n",
              "      <td>LinkedIn &lt;invitations@linkedin.com&gt;</td>\n",
              "      <td>Carlos Melo &lt;carlos@sigmoidal.ai&gt;</td>\n",
              "      <td>Mario gostaria de fazer parte da sua rede</td>\n",
              "      <td>=?UTF-8?Q?Caixa_de_entrada,Aberto,Categoria:_a...</td>\n",
              "    </tr>\n",
              "    <tr>\n",
              "      <th>1</th>\n",
              "      <td>Wed, 09 Sep 2020 21:56:45 +0000</td>\n",
              "      <td>\"Coursera\" &lt;no-reply@m.mail.coursera.org&gt;</td>\n",
              "      <td>\"Carlos Melo\" &lt;carlos@sigmoidal.ai&gt;</td>\n",
              "      <td>=?utf-8?B?U2VwdGVtYmVyIDIwMjAgTmV3c2xldHRlciDi...</td>\n",
              "      <td>=?UTF-8?Q?Caixa_de_entrada,Categoria:_promo=C3...</td>\n",
              "    </tr>\n",
              "    <tr>\n",
              "      <th>2</th>\n",
              "      <td>Sun, 13 Sep 2020 11:40:00 +0000 (UTC)</td>\n",
              "      <td>\"Medium Daily Digest\" &lt;noreply@medium.com&gt;</td>\n",
              "      <td>carlos@sigmoidal.ai</td>\n",
              "      <td>The Housing Market is Heading for a Cliff | Ro...</td>\n",
              "      <td>=?UTF-8?Q?Caixa_de_entrada,Categoria:_promo=C3...</td>\n",
              "    </tr>\n",
              "    <tr>\n",
              "      <th>3</th>\n",
              "      <td>Tue, 08 Sep 2020 11:30:54 -0400</td>\n",
              "      <td>Vimeo &lt;no-reply@vimeo.com&gt;</td>\n",
              "      <td>carlos@sigmoidal.ai</td>\n",
              "      <td>Rafael Duarte uploaded a video to your Vimeo a...</td>\n",
              "      <td>=?UTF-8?Q?Lixeira,Categoria:_atualiza=C3=A7=C3...</td>\n",
              "    </tr>\n",
              "    <tr>\n",
              "      <th>4</th>\n",
              "      <td>Wed, 09 Sep 2020 02:23:56 +0000 (UTC)</td>\n",
              "      <td>RD Station &lt;info@rdstation.com.br&gt;</td>\n",
              "      <td>carlos@sigmoidal.ai</td>\n",
              "      <td>[Novo lead] Caique Filipini - http://sigmoidal.ai</td>\n",
              "      <td>=?UTF-8?Q?Arquivada,Categoria:_atuali?=\\r\\n =?...</td>\n",
              "    </tr>\n",
              "  </tbody>\n",
              "</table>\n",
              "</div>"
            ],
            "text/plain": [
              "                                    date  ...                                             labels\n",
              "0  Thu, 10 Sep 2020 11:15:52 +0000 (UTC)  ...  =?UTF-8?Q?Caixa_de_entrada,Aberto,Categoria:_a...\n",
              "1        Wed, 09 Sep 2020 21:56:45 +0000  ...  =?UTF-8?Q?Caixa_de_entrada,Categoria:_promo=C3...\n",
              "2  Sun, 13 Sep 2020 11:40:00 +0000 (UTC)  ...  =?UTF-8?Q?Caixa_de_entrada,Categoria:_promo=C3...\n",
              "3        Tue, 08 Sep 2020 11:30:54 -0400  ...  =?UTF-8?Q?Lixeira,Categoria:_atualiza=C3=A7=C3...\n",
              "4  Wed, 09 Sep 2020 02:23:56 +0000 (UTC)  ...  =?UTF-8?Q?Arquivada,Categoria:_atuali?=\\r\\n =?...\n",
              "\n",
              "[5 rows x 5 columns]"
            ]
          },
          "metadata": {
            "tags": []
          },
          "execution_count": 20
        }
      ]
    },
    {
      "cell_type": "code",
      "metadata": {
        "id": "EeewqwoEMIsX",
        "colab": {
          "base_uri": "https://localhost:8080/",
          "height": 125
        },
        "outputId": "483d8595-2b08-482d-e999-0eb0321d24ef"
      },
      "source": [
        "# verificando os tipos\n",
        "df.dtypes"
      ],
      "execution_count": null,
      "outputs": [
        {
          "output_type": "execute_result",
          "data": {
            "text/plain": [
              "date       object\n",
              "from       object\n",
              "to         object\n",
              "subject    object\n",
              "labels     object\n",
              "dtype: object"
            ]
          },
          "metadata": {
            "tags": []
          },
          "execution_count": 21
        }
      ]
    },
    {
      "cell_type": "markdown",
      "metadata": {
        "id": "ZR00qmLZVYPw"
      },
      "source": [
        "Ao verificar os tipos das variáveis, já conseguimos perceber que precisaremos trablhar a coluna `date`. Essa coluna nos traz informações de data, mas está em formato `object`, é uma string.\n",
        "\n",
        "Portanto, vamos converter para o formato `datetime`. Entretanto, essa coluna nos trás informácões de Time Zones, e precisamos passar o parâmetro `utc=True`, para que a conversão possa ser feita corretamente."
      ]
    },
    {
      "cell_type": "code",
      "metadata": {
        "id": "DfmsPMeaMJ1S"
      },
      "source": [
        "# convertendo date para datetime\n",
        "df['date'] = pd.to_datetime(df['date'], utc=True)"
      ],
      "execution_count": null,
      "outputs": []
    },
    {
      "cell_type": "code",
      "metadata": {
        "id": "-SeJneUOMN8z",
        "colab": {
          "base_uri": "https://localhost:8080/",
          "height": 289
        },
        "outputId": "ae1e9156-39a9-4cec-c1dd-53bc2504e9b9"
      },
      "source": [
        "# verificando as primeiras entradas\n",
        "df.head()"
      ],
      "execution_count": null,
      "outputs": [
        {
          "output_type": "execute_result",
          "data": {
            "text/html": [
              "<div>\n",
              "<style scoped>\n",
              "    .dataframe tbody tr th:only-of-type {\n",
              "        vertical-align: middle;\n",
              "    }\n",
              "\n",
              "    .dataframe tbody tr th {\n",
              "        vertical-align: top;\n",
              "    }\n",
              "\n",
              "    .dataframe thead th {\n",
              "        text-align: right;\n",
              "    }\n",
              "</style>\n",
              "<table border=\"1\" class=\"dataframe\">\n",
              "  <thead>\n",
              "    <tr style=\"text-align: right;\">\n",
              "      <th></th>\n",
              "      <th>date</th>\n",
              "      <th>from</th>\n",
              "      <th>to</th>\n",
              "      <th>subject</th>\n",
              "      <th>labels</th>\n",
              "    </tr>\n",
              "  </thead>\n",
              "  <tbody>\n",
              "    <tr>\n",
              "      <th>0</th>\n",
              "      <td>2020-09-10 11:15:52+00:00</td>\n",
              "      <td>LinkedIn &lt;invitations@linkedin.com&gt;</td>\n",
              "      <td>Carlos Melo &lt;carlos@sigmoidal.ai&gt;</td>\n",
              "      <td>Mario gostaria de fazer parte da sua rede</td>\n",
              "      <td>=?UTF-8?Q?Caixa_de_entrada,Aberto,Categoria:_a...</td>\n",
              "    </tr>\n",
              "    <tr>\n",
              "      <th>1</th>\n",
              "      <td>2020-09-09 21:56:45+00:00</td>\n",
              "      <td>\"Coursera\" &lt;no-reply@m.mail.coursera.org&gt;</td>\n",
              "      <td>\"Carlos Melo\" &lt;carlos@sigmoidal.ai&gt;</td>\n",
              "      <td>=?utf-8?B?U2VwdGVtYmVyIDIwMjAgTmV3c2xldHRlciDi...</td>\n",
              "      <td>=?UTF-8?Q?Caixa_de_entrada,Categoria:_promo=C3...</td>\n",
              "    </tr>\n",
              "    <tr>\n",
              "      <th>2</th>\n",
              "      <td>2020-09-13 11:40:00+00:00</td>\n",
              "      <td>\"Medium Daily Digest\" &lt;noreply@medium.com&gt;</td>\n",
              "      <td>carlos@sigmoidal.ai</td>\n",
              "      <td>The Housing Market is Heading for a Cliff | Ro...</td>\n",
              "      <td>=?UTF-8?Q?Caixa_de_entrada,Categoria:_promo=C3...</td>\n",
              "    </tr>\n",
              "    <tr>\n",
              "      <th>3</th>\n",
              "      <td>2020-09-08 15:30:54+00:00</td>\n",
              "      <td>Vimeo &lt;no-reply@vimeo.com&gt;</td>\n",
              "      <td>carlos@sigmoidal.ai</td>\n",
              "      <td>Rafael Duarte uploaded a video to your Vimeo a...</td>\n",
              "      <td>=?UTF-8?Q?Lixeira,Categoria:_atualiza=C3=A7=C3...</td>\n",
              "    </tr>\n",
              "    <tr>\n",
              "      <th>4</th>\n",
              "      <td>2020-09-09 02:23:56+00:00</td>\n",
              "      <td>RD Station &lt;info@rdstation.com.br&gt;</td>\n",
              "      <td>carlos@sigmoidal.ai</td>\n",
              "      <td>[Novo lead] Caique Filipini - http://sigmoidal.ai</td>\n",
              "      <td>=?UTF-8?Q?Arquivada,Categoria:_atuali?=\\r\\n =?...</td>\n",
              "    </tr>\n",
              "  </tbody>\n",
              "</table>\n",
              "</div>"
            ],
            "text/plain": [
              "                       date  ...                                             labels\n",
              "0 2020-09-10 11:15:52+00:00  ...  =?UTF-8?Q?Caixa_de_entrada,Aberto,Categoria:_a...\n",
              "1 2020-09-09 21:56:45+00:00  ...  =?UTF-8?Q?Caixa_de_entrada,Categoria:_promo=C3...\n",
              "2 2020-09-13 11:40:00+00:00  ...  =?UTF-8?Q?Caixa_de_entrada,Categoria:_promo=C3...\n",
              "3 2020-09-08 15:30:54+00:00  ...  =?UTF-8?Q?Lixeira,Categoria:_atualiza=C3=A7=C3...\n",
              "4 2020-09-09 02:23:56+00:00  ...  =?UTF-8?Q?Arquivada,Categoria:_atuali?=\\r\\n =?...\n",
              "\n",
              "[5 rows x 5 columns]"
            ]
          },
          "metadata": {
            "tags": []
          },
          "execution_count": 23
        }
      ]
    },
    {
      "cell_type": "markdown",
      "metadata": {
        "id": "l3uVaiLmWHWY"
      },
      "source": [
        "Excelente! Já temos nossos dados no tipo que precisamos. Entretanto, ainda existe uma transformação que precisa ser feita. \n",
        "\n",
        "Precisamos que a informação de *time zone* esteja condizente com a Time Zone que nos encontramos. Para isso, aplicaremos uma função *lambda* para aplicar às entradas o método timezone da biblioteca `pytz` para que possamos ter a informação correta de *time zone*."
      ]
    },
    {
      "cell_type": "code",
      "metadata": {
        "id": "mo_WDtS36K0T"
      },
      "source": [
        "# transformando time zone\n",
        "df[\"date\"] = df[\"date\"].apply(lambda x: x.astimezone(pytz.timezone(\"America/Sao_Paulo\")))"
      ],
      "execution_count": null,
      "outputs": []
    },
    {
      "cell_type": "code",
      "metadata": {
        "id": "siOjmmul6k0l",
        "colab": {
          "base_uri": "https://localhost:8080/",
          "height": 289
        },
        "outputId": "3ed119f3-74bd-45e3-f96f-52cb7a8703b1"
      },
      "source": [
        "# verificando o resultado\n",
        "df.head()"
      ],
      "execution_count": null,
      "outputs": [
        {
          "output_type": "execute_result",
          "data": {
            "text/html": [
              "<div>\n",
              "<style scoped>\n",
              "    .dataframe tbody tr th:only-of-type {\n",
              "        vertical-align: middle;\n",
              "    }\n",
              "\n",
              "    .dataframe tbody tr th {\n",
              "        vertical-align: top;\n",
              "    }\n",
              "\n",
              "    .dataframe thead th {\n",
              "        text-align: right;\n",
              "    }\n",
              "</style>\n",
              "<table border=\"1\" class=\"dataframe\">\n",
              "  <thead>\n",
              "    <tr style=\"text-align: right;\">\n",
              "      <th></th>\n",
              "      <th>date</th>\n",
              "      <th>from</th>\n",
              "      <th>to</th>\n",
              "      <th>subject</th>\n",
              "      <th>labels</th>\n",
              "    </tr>\n",
              "  </thead>\n",
              "  <tbody>\n",
              "    <tr>\n",
              "      <th>0</th>\n",
              "      <td>2020-09-10 08:15:52-03:00</td>\n",
              "      <td>LinkedIn &lt;invitations@linkedin.com&gt;</td>\n",
              "      <td>Carlos Melo &lt;carlos@sigmoidal.ai&gt;</td>\n",
              "      <td>Mario gostaria de fazer parte da sua rede</td>\n",
              "      <td>=?UTF-8?Q?Caixa_de_entrada,Aberto,Categoria:_a...</td>\n",
              "    </tr>\n",
              "    <tr>\n",
              "      <th>1</th>\n",
              "      <td>2020-09-09 18:56:45-03:00</td>\n",
              "      <td>\"Coursera\" &lt;no-reply@m.mail.coursera.org&gt;</td>\n",
              "      <td>\"Carlos Melo\" &lt;carlos@sigmoidal.ai&gt;</td>\n",
              "      <td>=?utf-8?B?U2VwdGVtYmVyIDIwMjAgTmV3c2xldHRlciDi...</td>\n",
              "      <td>=?UTF-8?Q?Caixa_de_entrada,Categoria:_promo=C3...</td>\n",
              "    </tr>\n",
              "    <tr>\n",
              "      <th>2</th>\n",
              "      <td>2020-09-13 08:40:00-03:00</td>\n",
              "      <td>\"Medium Daily Digest\" &lt;noreply@medium.com&gt;</td>\n",
              "      <td>carlos@sigmoidal.ai</td>\n",
              "      <td>The Housing Market is Heading for a Cliff | Ro...</td>\n",
              "      <td>=?UTF-8?Q?Caixa_de_entrada,Categoria:_promo=C3...</td>\n",
              "    </tr>\n",
              "    <tr>\n",
              "      <th>3</th>\n",
              "      <td>2020-09-08 12:30:54-03:00</td>\n",
              "      <td>Vimeo &lt;no-reply@vimeo.com&gt;</td>\n",
              "      <td>carlos@sigmoidal.ai</td>\n",
              "      <td>Rafael Duarte uploaded a video to your Vimeo a...</td>\n",
              "      <td>=?UTF-8?Q?Lixeira,Categoria:_atualiza=C3=A7=C3...</td>\n",
              "    </tr>\n",
              "    <tr>\n",
              "      <th>4</th>\n",
              "      <td>2020-09-08 23:23:56-03:00</td>\n",
              "      <td>RD Station &lt;info@rdstation.com.br&gt;</td>\n",
              "      <td>carlos@sigmoidal.ai</td>\n",
              "      <td>[Novo lead] Caique Filipini - http://sigmoidal.ai</td>\n",
              "      <td>=?UTF-8?Q?Arquivada,Categoria:_atuali?=\\r\\n =?...</td>\n",
              "    </tr>\n",
              "  </tbody>\n",
              "</table>\n",
              "</div>"
            ],
            "text/plain": [
              "                       date  ...                                             labels\n",
              "0 2020-09-10 08:15:52-03:00  ...  =?UTF-8?Q?Caixa_de_entrada,Aberto,Categoria:_a...\n",
              "1 2020-09-09 18:56:45-03:00  ...  =?UTF-8?Q?Caixa_de_entrada,Categoria:_promo=C3...\n",
              "2 2020-09-13 08:40:00-03:00  ...  =?UTF-8?Q?Caixa_de_entrada,Categoria:_promo=C3...\n",
              "3 2020-09-08 12:30:54-03:00  ...  =?UTF-8?Q?Lixeira,Categoria:_atualiza=C3=A7=C3...\n",
              "4 2020-09-08 23:23:56-03:00  ...  =?UTF-8?Q?Arquivada,Categoria:_atuali?=\\r\\n =?...\n",
              "\n",
              "[5 rows x 5 columns]"
            ]
          },
          "metadata": {
            "tags": []
          },
          "execution_count": 25
        }
      ]
    },
    {
      "cell_type": "markdown",
      "metadata": {
        "id": "BouOdxbBWqko"
      },
      "source": [
        "Com os dados nos formatos e tipos que precisamos, é hora de continuar a limpeza dos nossos dados.\n",
        "\n",
        "Abaixo, ao verificamos a presença de dados ausentes. Como a quantidade é pequena, vamos excluir essas linhas."
      ]
    },
    {
      "cell_type": "code",
      "metadata": {
        "id": "3MHjs5CaMQi7",
        "colab": {
          "base_uri": "https://localhost:8080/",
          "height": 125
        },
        "outputId": "d97436f8-4b48-4efd-9603-78d23090c37a"
      },
      "source": [
        "# verificando entradas vazias\n",
        "df.isnull().sum()"
      ],
      "execution_count": null,
      "outputs": [
        {
          "output_type": "execute_result",
          "data": {
            "text/plain": [
              "date        0\n",
              "from        0\n",
              "to          8\n",
              "subject    16\n",
              "labels      0\n",
              "dtype: int64"
            ]
          },
          "metadata": {
            "tags": []
          },
          "execution_count": 26
        }
      ]
    },
    {
      "cell_type": "code",
      "metadata": {
        "id": "-HFGsh39tfQ7"
      },
      "source": [
        "# excluindo as linhas\n",
        "df.dropna(how='any', inplace=True)"
      ],
      "execution_count": null,
      "outputs": []
    },
    {
      "cell_type": "code",
      "metadata": {
        "id": "HhvIHQ9Utjwg",
        "colab": {
          "base_uri": "https://localhost:8080/",
          "height": 125
        },
        "outputId": "339347c0-8a72-4f0d-9045-b02f9232680b"
      },
      "source": [
        "# verificando novamente\n",
        "df.isnull().sum()"
      ],
      "execution_count": null,
      "outputs": [
        {
          "output_type": "execute_result",
          "data": {
            "text/plain": [
              "date       0\n",
              "from       0\n",
              "to         0\n",
              "subject    0\n",
              "labels     0\n",
              "dtype: int64"
            ]
          },
          "metadata": {
            "tags": []
          },
          "execution_count": 28
        }
      ]
    },
    {
      "cell_type": "markdown",
      "metadata": {
        "id": "z47JNpuGXBbU"
      },
      "source": [
        "## Limpeza de Strings\n",
        "\n",
        "Ao verificar os dados acima, conseguimos perceber que temos algumas entradas bastante confusas, onde o entendimento do que, de fato, é informação relevante fica comprometido.\n",
        "\n",
        "<center><img width=\"50%\" src=\"https://image.freepik.com/free-photo/housekeeping-concept-with-hand-holding-cloth_23-2147699396.jpg\"></center>\n",
        "\n",
        "Por isso, é importante que façamos uma limpeza dessas entradas, utilizando as técnicas de manipulação de strings que aprendemos nos módulos anteriores. "
      ]
    },
    {
      "cell_type": "markdown",
      "metadata": {
        "id": "idwufgc8Z8EH"
      },
      "source": [
        "A primeira coisa que vamos fazer é limpar os e-mails.\n",
        "\n",
        "Para isso, vamos criar uma função para retirar tudo aquilo que não faz parte do endereço de e-mail, e aplicar a mesma nas colunas `to` e `from`."
      ]
    },
    {
      "cell_type": "code",
      "metadata": {
        "id": "i5r-n5UqN-A-"
      },
      "source": [
        "# criando a função\n",
        "def extrair_email(string_email):\n",
        "    email = re.findall(r'<(.+?)>', string_email)\n",
        "    if email:\n",
        "        return email[0]\n",
        "    else:\n",
        "        return string_email"
      ],
      "execution_count": null,
      "outputs": []
    },
    {
      "cell_type": "code",
      "metadata": {
        "id": "k8ias8EDrU48"
      },
      "source": [
        "# aplicando a função\n",
        "df['to'] = df['to'].apply(extrair_email)\n",
        "df['from'] = df['from'].apply(extrair_email)"
      ],
      "execution_count": null,
      "outputs": []
    },
    {
      "cell_type": "code",
      "metadata": {
        "id": "Oskp4RXSs-qj",
        "colab": {
          "base_uri": "https://localhost:8080/",
          "height": 204
        },
        "outputId": "708d941c-9bfb-4ede-a052-df5f3d2bb751"
      },
      "source": [
        "# verificando os resultados\n",
        "df.head()"
      ],
      "execution_count": null,
      "outputs": [
        {
          "output_type": "execute_result",
          "data": {
            "text/html": [
              "<div>\n",
              "<style scoped>\n",
              "    .dataframe tbody tr th:only-of-type {\n",
              "        vertical-align: middle;\n",
              "    }\n",
              "\n",
              "    .dataframe tbody tr th {\n",
              "        vertical-align: top;\n",
              "    }\n",
              "\n",
              "    .dataframe thead th {\n",
              "        text-align: right;\n",
              "    }\n",
              "</style>\n",
              "<table border=\"1\" class=\"dataframe\">\n",
              "  <thead>\n",
              "    <tr style=\"text-align: right;\">\n",
              "      <th></th>\n",
              "      <th>date</th>\n",
              "      <th>from</th>\n",
              "      <th>to</th>\n",
              "      <th>subject</th>\n",
              "      <th>labels</th>\n",
              "    </tr>\n",
              "  </thead>\n",
              "  <tbody>\n",
              "    <tr>\n",
              "      <th>0</th>\n",
              "      <td>2020-09-10 08:15:52-03:00</td>\n",
              "      <td>invitations@linkedin.com</td>\n",
              "      <td>carlos@sigmoidal.ai</td>\n",
              "      <td>Mario gostaria de fazer parte da sua rede</td>\n",
              "      <td>=?UTF-8?Q?Caixa_de_entrada,Aberto,Categoria:_a...</td>\n",
              "    </tr>\n",
              "    <tr>\n",
              "      <th>1</th>\n",
              "      <td>2020-09-09 18:56:45-03:00</td>\n",
              "      <td>no-reply@m.mail.coursera.org</td>\n",
              "      <td>carlos@sigmoidal.ai</td>\n",
              "      <td>=?utf-8?B?U2VwdGVtYmVyIDIwMjAgTmV3c2xldHRlciDi...</td>\n",
              "      <td>=?UTF-8?Q?Caixa_de_entrada,Categoria:_promo=C3...</td>\n",
              "    </tr>\n",
              "    <tr>\n",
              "      <th>2</th>\n",
              "      <td>2020-09-13 08:40:00-03:00</td>\n",
              "      <td>noreply@medium.com</td>\n",
              "      <td>carlos@sigmoidal.ai</td>\n",
              "      <td>The Housing Market is Heading for a Cliff | Ro...</td>\n",
              "      <td>=?UTF-8?Q?Caixa_de_entrada,Categoria:_promo=C3...</td>\n",
              "    </tr>\n",
              "    <tr>\n",
              "      <th>3</th>\n",
              "      <td>2020-09-08 12:30:54-03:00</td>\n",
              "      <td>no-reply@vimeo.com</td>\n",
              "      <td>carlos@sigmoidal.ai</td>\n",
              "      <td>Rafael Duarte uploaded a video to your Vimeo a...</td>\n",
              "      <td>=?UTF-8?Q?Lixeira,Categoria:_atualiza=C3=A7=C3...</td>\n",
              "    </tr>\n",
              "    <tr>\n",
              "      <th>4</th>\n",
              "      <td>2020-09-08 23:23:56-03:00</td>\n",
              "      <td>info@rdstation.com.br</td>\n",
              "      <td>carlos@sigmoidal.ai</td>\n",
              "      <td>[Novo lead] Caique Filipini - http://sigmoidal.ai</td>\n",
              "      <td>=?UTF-8?Q?Arquivada,Categoria:_atuali?=\\r\\n =?...</td>\n",
              "    </tr>\n",
              "  </tbody>\n",
              "</table>\n",
              "</div>"
            ],
            "text/plain": [
              "                       date  ...                                             labels\n",
              "0 2020-09-10 08:15:52-03:00  ...  =?UTF-8?Q?Caixa_de_entrada,Aberto,Categoria:_a...\n",
              "1 2020-09-09 18:56:45-03:00  ...  =?UTF-8?Q?Caixa_de_entrada,Categoria:_promo=C3...\n",
              "2 2020-09-13 08:40:00-03:00  ...  =?UTF-8?Q?Caixa_de_entrada,Categoria:_promo=C3...\n",
              "3 2020-09-08 12:30:54-03:00  ...  =?UTF-8?Q?Lixeira,Categoria:_atualiza=C3=A7=C3...\n",
              "4 2020-09-08 23:23:56-03:00  ...  =?UTF-8?Q?Arquivada,Categoria:_atuali?=\\r\\n =?...\n",
              "\n",
              "[5 rows x 5 columns]"
            ]
          },
          "metadata": {
            "tags": []
          },
          "execution_count": 31
        }
      ]
    },
    {
      "cell_type": "markdown",
      "metadata": {
        "id": "mPNcsuv9abAy"
      },
      "source": [
        "Agora, iremos fazer um processo parecido para limpar a coluna `label`.\n",
        "\n",
        "Criaremos uma função que retire as informações desnecessárias, divida os itens por vírgula, e retorne apenas o primeiro item, que é o item de interesse para nós."
      ]
    },
    {
      "cell_type": "code",
      "metadata": {
        "id": "DDj4ib5Et4Sf"
      },
      "source": [
        "# criando a função\n",
        "def extrair_label(string_labels):\n",
        "    return string_labels.replace(\"=?UTF-8?Q?\", \"\").split(\",\")[0]"
      ],
      "execution_count": null,
      "outputs": []
    },
    {
      "cell_type": "code",
      "metadata": {
        "id": "kyNnHt380l1o"
      },
      "source": [
        "# aplicando a função\n",
        "df[\"labels\"] = df[\"labels\"].apply(extrair_label)"
      ],
      "execution_count": null,
      "outputs": []
    },
    {
      "cell_type": "code",
      "metadata": {
        "id": "nSRzU8Mf2yTg",
        "colab": {
          "base_uri": "https://localhost:8080/",
          "height": 204
        },
        "outputId": "ea0a58f7-96d0-48f8-f363-c3fce1345eea"
      },
      "source": [
        "# verificando os resultados\n",
        "df.head()"
      ],
      "execution_count": null,
      "outputs": [
        {
          "output_type": "execute_result",
          "data": {
            "text/html": [
              "<div>\n",
              "<style scoped>\n",
              "    .dataframe tbody tr th:only-of-type {\n",
              "        vertical-align: middle;\n",
              "    }\n",
              "\n",
              "    .dataframe tbody tr th {\n",
              "        vertical-align: top;\n",
              "    }\n",
              "\n",
              "    .dataframe thead th {\n",
              "        text-align: right;\n",
              "    }\n",
              "</style>\n",
              "<table border=\"1\" class=\"dataframe\">\n",
              "  <thead>\n",
              "    <tr style=\"text-align: right;\">\n",
              "      <th></th>\n",
              "      <th>date</th>\n",
              "      <th>from</th>\n",
              "      <th>to</th>\n",
              "      <th>subject</th>\n",
              "      <th>labels</th>\n",
              "    </tr>\n",
              "  </thead>\n",
              "  <tbody>\n",
              "    <tr>\n",
              "      <th>0</th>\n",
              "      <td>2020-09-10 08:15:52-03:00</td>\n",
              "      <td>invitations@linkedin.com</td>\n",
              "      <td>carlos@sigmoidal.ai</td>\n",
              "      <td>Mario gostaria de fazer parte da sua rede</td>\n",
              "      <td>Caixa_de_entrada</td>\n",
              "    </tr>\n",
              "    <tr>\n",
              "      <th>1</th>\n",
              "      <td>2020-09-09 18:56:45-03:00</td>\n",
              "      <td>no-reply@m.mail.coursera.org</td>\n",
              "      <td>carlos@sigmoidal.ai</td>\n",
              "      <td>=?utf-8?B?U2VwdGVtYmVyIDIwMjAgTmV3c2xldHRlciDi...</td>\n",
              "      <td>Caixa_de_entrada</td>\n",
              "    </tr>\n",
              "    <tr>\n",
              "      <th>2</th>\n",
              "      <td>2020-09-13 08:40:00-03:00</td>\n",
              "      <td>noreply@medium.com</td>\n",
              "      <td>carlos@sigmoidal.ai</td>\n",
              "      <td>The Housing Market is Heading for a Cliff | Ro...</td>\n",
              "      <td>Caixa_de_entrada</td>\n",
              "    </tr>\n",
              "    <tr>\n",
              "      <th>3</th>\n",
              "      <td>2020-09-08 12:30:54-03:00</td>\n",
              "      <td>no-reply@vimeo.com</td>\n",
              "      <td>carlos@sigmoidal.ai</td>\n",
              "      <td>Rafael Duarte uploaded a video to your Vimeo a...</td>\n",
              "      <td>Lixeira</td>\n",
              "    </tr>\n",
              "    <tr>\n",
              "      <th>4</th>\n",
              "      <td>2020-09-08 23:23:56-03:00</td>\n",
              "      <td>info@rdstation.com.br</td>\n",
              "      <td>carlos@sigmoidal.ai</td>\n",
              "      <td>[Novo lead] Caique Filipini - http://sigmoidal.ai</td>\n",
              "      <td>Arquivada</td>\n",
              "    </tr>\n",
              "  </tbody>\n",
              "</table>\n",
              "</div>"
            ],
            "text/plain": [
              "                       date  ...            labels\n",
              "0 2020-09-10 08:15:52-03:00  ...  Caixa_de_entrada\n",
              "1 2020-09-09 18:56:45-03:00  ...  Caixa_de_entrada\n",
              "2 2020-09-13 08:40:00-03:00  ...  Caixa_de_entrada\n",
              "3 2020-09-08 12:30:54-03:00  ...           Lixeira\n",
              "4 2020-09-08 23:23:56-03:00  ...         Arquivada\n",
              "\n",
              "[5 rows x 5 columns]"
            ]
          },
          "metadata": {
            "tags": []
          },
          "execution_count": 35
        }
      ]
    },
    {
      "cell_type": "markdown",
      "metadata": {
        "id": "d25m8g7jb80F"
      },
      "source": [
        "## Análise Exploratória\n",
        "\n",
        "Agora que nossos dados foram adquiridos, carregados e limpos, eles estão prontos para serem analisados!\n",
        "\n",
        "<center><img width=\"50%\" src=\"https://image.freepik.com/free-photo/business-presentation-laptop-screen_53876-13516.jpg\"></center>\n",
        "\n",
        "A parte que mais demanda nosso tempo e atenção é a Análise Exploratória, pois é aqui que vamos transformar dados em informação, encontrar isights que farão a diferença em nosso projetos."
      ]
    },
    {
      "cell_type": "markdown",
      "metadata": {
        "id": "ki9j0fvvcxYk"
      },
      "source": [
        "A primeira análise que faremos será em relação aos endereços que nos enviam e-mail. Qual foi o endereço que mais me enviou e-mails?"
      ]
    },
    {
      "cell_type": "code",
      "metadata": {
        "id": "g5IJ7dC75jSO",
        "colab": {
          "base_uri": "https://localhost:8080/",
          "height": 125
        },
        "outputId": "efc5bb5d-e913-4917-e24c-55278b175167"
      },
      "source": [
        "# verificando endereços que mais enviaram e-mail para minha caixa entrada\n",
        "df[df[\"labels\"] == \"Caixa_de_entrada\"][\"from\"].value_counts()[0:5]"
      ],
      "execution_count": null,
      "outputs": [
        {
          "output_type": "execute_result",
          "data": {
            "text/plain": [
              "info@rdstation.com.br            255\n",
              "messages-noreply@linkedin.com    110\n",
              "noreply@medium.com               108\n",
              "invitations@linkedin.com          95\n",
              "adrian@pyimagesearch.com          89\n",
              "Name: from, dtype: int64"
            ]
          },
          "metadata": {
            "tags": []
          },
          "execution_count": 44
        }
      ]
    },
    {
      "cell_type": "markdown",
      "metadata": {
        "id": "OYaJVmYfdDp8"
      },
      "source": [
        "Outro insight interessante é descobrir que dia da semana a recebemos mais e-mail.\n",
        "\n",
        "Usando Python e Pandas, vamos criar uma nova coluna, que indica em que dia da semana cada e-mail foi enviado."
      ]
    },
    {
      "cell_type": "code",
      "metadata": {
        "id": "dJLaB0EiYsFA",
        "colab": {
          "base_uri": "https://localhost:8080/",
          "height": 204
        },
        "outputId": "da166ef7-24e4-499a-a0fb-b8bac288abd0"
      },
      "source": [
        "df.head()"
      ],
      "execution_count": null,
      "outputs": [
        {
          "output_type": "execute_result",
          "data": {
            "text/html": [
              "<div>\n",
              "<style scoped>\n",
              "    .dataframe tbody tr th:only-of-type {\n",
              "        vertical-align: middle;\n",
              "    }\n",
              "\n",
              "    .dataframe tbody tr th {\n",
              "        vertical-align: top;\n",
              "    }\n",
              "\n",
              "    .dataframe thead th {\n",
              "        text-align: right;\n",
              "    }\n",
              "</style>\n",
              "<table border=\"1\" class=\"dataframe\">\n",
              "  <thead>\n",
              "    <tr style=\"text-align: right;\">\n",
              "      <th></th>\n",
              "      <th>date</th>\n",
              "      <th>from</th>\n",
              "      <th>to</th>\n",
              "      <th>subject</th>\n",
              "      <th>labels</th>\n",
              "    </tr>\n",
              "  </thead>\n",
              "  <tbody>\n",
              "    <tr>\n",
              "      <th>0</th>\n",
              "      <td>2020-09-10 08:15:52-03:00</td>\n",
              "      <td>invitations@linkedin.com</td>\n",
              "      <td>carlos@sigmoidal.ai</td>\n",
              "      <td>Mario gostaria de fazer parte da sua rede</td>\n",
              "      <td>Caixa_de_entrada</td>\n",
              "    </tr>\n",
              "    <tr>\n",
              "      <th>1</th>\n",
              "      <td>2020-09-09 18:56:45-03:00</td>\n",
              "      <td>no-reply@m.mail.coursera.org</td>\n",
              "      <td>carlos@sigmoidal.ai</td>\n",
              "      <td>=?utf-8?B?U2VwdGVtYmVyIDIwMjAgTmV3c2xldHRlciDi...</td>\n",
              "      <td>Caixa_de_entrada</td>\n",
              "    </tr>\n",
              "    <tr>\n",
              "      <th>2</th>\n",
              "      <td>2020-09-13 08:40:00-03:00</td>\n",
              "      <td>noreply@medium.com</td>\n",
              "      <td>carlos@sigmoidal.ai</td>\n",
              "      <td>The Housing Market is Heading for a Cliff | Ro...</td>\n",
              "      <td>Caixa_de_entrada</td>\n",
              "    </tr>\n",
              "    <tr>\n",
              "      <th>3</th>\n",
              "      <td>2020-09-08 12:30:54-03:00</td>\n",
              "      <td>no-reply@vimeo.com</td>\n",
              "      <td>carlos@sigmoidal.ai</td>\n",
              "      <td>Rafael Duarte uploaded a video to your Vimeo a...</td>\n",
              "      <td>Lixeira</td>\n",
              "    </tr>\n",
              "    <tr>\n",
              "      <th>4</th>\n",
              "      <td>2020-09-08 23:23:56-03:00</td>\n",
              "      <td>info@rdstation.com.br</td>\n",
              "      <td>carlos@sigmoidal.ai</td>\n",
              "      <td>[Novo lead] Caique Filipini - http://sigmoidal.ai</td>\n",
              "      <td>Arquivada</td>\n",
              "    </tr>\n",
              "  </tbody>\n",
              "</table>\n",
              "</div>"
            ],
            "text/plain": [
              "                       date  ...            labels\n",
              "0 2020-09-10 08:15:52-03:00  ...  Caixa_de_entrada\n",
              "1 2020-09-09 18:56:45-03:00  ...  Caixa_de_entrada\n",
              "2 2020-09-13 08:40:00-03:00  ...  Caixa_de_entrada\n",
              "3 2020-09-08 12:30:54-03:00  ...           Lixeira\n",
              "4 2020-09-08 23:23:56-03:00  ...         Arquivada\n",
              "\n",
              "[5 rows x 5 columns]"
            ]
          },
          "metadata": {
            "tags": []
          },
          "execution_count": 45
        }
      ]
    },
    {
      "cell_type": "code",
      "metadata": {
        "id": "KOKumOgm7GfX"
      },
      "source": [
        "# criando uma variávei de dia da semana\n",
        "df[\"weekday\"] = df[\"date\"].dt.weekday"
      ],
      "execution_count": null,
      "outputs": []
    },
    {
      "cell_type": "code",
      "metadata": {
        "id": "zqwt4D_j9EBK",
        "colab": {
          "base_uri": "https://localhost:8080/",
          "height": 204
        },
        "outputId": "231a6cca-4836-467a-aace-aaf9d2633193"
      },
      "source": [
        "# verificando o resultado\n",
        "df.head()"
      ],
      "execution_count": null,
      "outputs": [
        {
          "output_type": "execute_result",
          "data": {
            "text/html": [
              "<div>\n",
              "<style scoped>\n",
              "    .dataframe tbody tr th:only-of-type {\n",
              "        vertical-align: middle;\n",
              "    }\n",
              "\n",
              "    .dataframe tbody tr th {\n",
              "        vertical-align: top;\n",
              "    }\n",
              "\n",
              "    .dataframe thead th {\n",
              "        text-align: right;\n",
              "    }\n",
              "</style>\n",
              "<table border=\"1\" class=\"dataframe\">\n",
              "  <thead>\n",
              "    <tr style=\"text-align: right;\">\n",
              "      <th></th>\n",
              "      <th>date</th>\n",
              "      <th>from</th>\n",
              "      <th>to</th>\n",
              "      <th>subject</th>\n",
              "      <th>labels</th>\n",
              "      <th>weekday</th>\n",
              "    </tr>\n",
              "  </thead>\n",
              "  <tbody>\n",
              "    <tr>\n",
              "      <th>0</th>\n",
              "      <td>2020-09-10 08:15:52-03:00</td>\n",
              "      <td>invitations@linkedin.com</td>\n",
              "      <td>carlos@sigmoidal.ai</td>\n",
              "      <td>Mario gostaria de fazer parte da sua rede</td>\n",
              "      <td>Caixa_de_entrada</td>\n",
              "      <td>3</td>\n",
              "    </tr>\n",
              "    <tr>\n",
              "      <th>1</th>\n",
              "      <td>2020-09-09 18:56:45-03:00</td>\n",
              "      <td>no-reply@m.mail.coursera.org</td>\n",
              "      <td>carlos@sigmoidal.ai</td>\n",
              "      <td>=?utf-8?B?U2VwdGVtYmVyIDIwMjAgTmV3c2xldHRlciDi...</td>\n",
              "      <td>Caixa_de_entrada</td>\n",
              "      <td>2</td>\n",
              "    </tr>\n",
              "    <tr>\n",
              "      <th>2</th>\n",
              "      <td>2020-09-13 08:40:00-03:00</td>\n",
              "      <td>noreply@medium.com</td>\n",
              "      <td>carlos@sigmoidal.ai</td>\n",
              "      <td>The Housing Market is Heading for a Cliff | Ro...</td>\n",
              "      <td>Caixa_de_entrada</td>\n",
              "      <td>6</td>\n",
              "    </tr>\n",
              "    <tr>\n",
              "      <th>3</th>\n",
              "      <td>2020-09-08 12:30:54-03:00</td>\n",
              "      <td>no-reply@vimeo.com</td>\n",
              "      <td>carlos@sigmoidal.ai</td>\n",
              "      <td>Rafael Duarte uploaded a video to your Vimeo a...</td>\n",
              "      <td>Lixeira</td>\n",
              "      <td>1</td>\n",
              "    </tr>\n",
              "    <tr>\n",
              "      <th>4</th>\n",
              "      <td>2020-09-08 23:23:56-03:00</td>\n",
              "      <td>info@rdstation.com.br</td>\n",
              "      <td>carlos@sigmoidal.ai</td>\n",
              "      <td>[Novo lead] Caique Filipini - http://sigmoidal.ai</td>\n",
              "      <td>Arquivada</td>\n",
              "      <td>1</td>\n",
              "    </tr>\n",
              "  </tbody>\n",
              "</table>\n",
              "</div>"
            ],
            "text/plain": [
              "                       date  ... weekday\n",
              "0 2020-09-10 08:15:52-03:00  ...       3\n",
              "1 2020-09-09 18:56:45-03:00  ...       2\n",
              "2 2020-09-13 08:40:00-03:00  ...       6\n",
              "3 2020-09-08 12:30:54-03:00  ...       1\n",
              "4 2020-09-08 23:23:56-03:00  ...       1\n",
              "\n",
              "[5 rows x 6 columns]"
            ]
          },
          "metadata": {
            "tags": []
          },
          "execution_count": 52
        }
      ]
    },
    {
      "cell_type": "markdown",
      "metadata": {
        "id": "XuhVm8s-dW44"
      },
      "source": [
        "Com a coluna criada, vamos transformar esses números em uma informação mais fácil de digerir e interpretar.\n",
        "\n",
        "A transformação que fizemos retorna Segunda-Feira como o primeiro dia, portanto, o dia associado ao valor `0`, é Segunda-Feira, e assim sucessivamente.\n",
        "\n",
        "Vamos criar um dicionário, onde associaremos para as chaves, valores em formato de string para os dias da semana, e transformar nossa coluna com esse dicionário."
      ]
    },
    {
      "cell_type": "code",
      "metadata": {
        "id": "E_rU5kHs9GhH"
      },
      "source": [
        "# criando dicionário\n",
        "dias_semana = {0:\"Segunda\", 1:\"Terça\", 2:\"Quarta\",3:\"Quinta\", 4:\"Sexta\", 5:\"Sábado\", 6:\"Domingo\"}\n",
        "\n",
        "# transformando a coluna\n",
        "df[\"weekday\"] = df[\"weekday\"].replace(dias_semana)"
      ],
      "execution_count": null,
      "outputs": []
    },
    {
      "cell_type": "code",
      "metadata": {
        "id": "oe0ZXoj9_DZ0",
        "colab": {
          "base_uri": "https://localhost:8080/",
          "height": 204
        },
        "outputId": "812a6486-cb4a-45f0-de04-de75951c03cb"
      },
      "source": [
        "# verificando o resultado\n",
        "df.head()"
      ],
      "execution_count": null,
      "outputs": [
        {
          "output_type": "execute_result",
          "data": {
            "text/html": [
              "<div>\n",
              "<style scoped>\n",
              "    .dataframe tbody tr th:only-of-type {\n",
              "        vertical-align: middle;\n",
              "    }\n",
              "\n",
              "    .dataframe tbody tr th {\n",
              "        vertical-align: top;\n",
              "    }\n",
              "\n",
              "    .dataframe thead th {\n",
              "        text-align: right;\n",
              "    }\n",
              "</style>\n",
              "<table border=\"1\" class=\"dataframe\">\n",
              "  <thead>\n",
              "    <tr style=\"text-align: right;\">\n",
              "      <th></th>\n",
              "      <th>date</th>\n",
              "      <th>from</th>\n",
              "      <th>to</th>\n",
              "      <th>subject</th>\n",
              "      <th>labels</th>\n",
              "      <th>weekday</th>\n",
              "    </tr>\n",
              "  </thead>\n",
              "  <tbody>\n",
              "    <tr>\n",
              "      <th>0</th>\n",
              "      <td>2020-09-10 08:15:52-03:00</td>\n",
              "      <td>invitations@linkedin.com</td>\n",
              "      <td>carlos@sigmoidal.ai</td>\n",
              "      <td>Mario gostaria de fazer parte da sua rede</td>\n",
              "      <td>Caixa_de_entrada</td>\n",
              "      <td>Quinta</td>\n",
              "    </tr>\n",
              "    <tr>\n",
              "      <th>1</th>\n",
              "      <td>2020-09-09 18:56:45-03:00</td>\n",
              "      <td>no-reply@m.mail.coursera.org</td>\n",
              "      <td>carlos@sigmoidal.ai</td>\n",
              "      <td>=?utf-8?B?U2VwdGVtYmVyIDIwMjAgTmV3c2xldHRlciDi...</td>\n",
              "      <td>Caixa_de_entrada</td>\n",
              "      <td>Quarta</td>\n",
              "    </tr>\n",
              "    <tr>\n",
              "      <th>2</th>\n",
              "      <td>2020-09-13 08:40:00-03:00</td>\n",
              "      <td>noreply@medium.com</td>\n",
              "      <td>carlos@sigmoidal.ai</td>\n",
              "      <td>The Housing Market is Heading for a Cliff | Ro...</td>\n",
              "      <td>Caixa_de_entrada</td>\n",
              "      <td>Domingo</td>\n",
              "    </tr>\n",
              "    <tr>\n",
              "      <th>3</th>\n",
              "      <td>2020-09-08 12:30:54-03:00</td>\n",
              "      <td>no-reply@vimeo.com</td>\n",
              "      <td>carlos@sigmoidal.ai</td>\n",
              "      <td>Rafael Duarte uploaded a video to your Vimeo a...</td>\n",
              "      <td>Lixeira</td>\n",
              "      <td>Terça</td>\n",
              "    </tr>\n",
              "    <tr>\n",
              "      <th>4</th>\n",
              "      <td>2020-09-08 23:23:56-03:00</td>\n",
              "      <td>info@rdstation.com.br</td>\n",
              "      <td>carlos@sigmoidal.ai</td>\n",
              "      <td>[Novo lead] Caique Filipini - http://sigmoidal.ai</td>\n",
              "      <td>Arquivada</td>\n",
              "      <td>Terça</td>\n",
              "    </tr>\n",
              "  </tbody>\n",
              "</table>\n",
              "</div>"
            ],
            "text/plain": [
              "                       date  ...  weekday\n",
              "0 2020-09-10 08:15:52-03:00  ...   Quinta\n",
              "1 2020-09-09 18:56:45-03:00  ...   Quarta\n",
              "2 2020-09-13 08:40:00-03:00  ...  Domingo\n",
              "3 2020-09-08 12:30:54-03:00  ...    Terça\n",
              "4 2020-09-08 23:23:56-03:00  ...    Terça\n",
              "\n",
              "[5 rows x 6 columns]"
            ]
          },
          "metadata": {
            "tags": []
          },
          "execution_count": 55
        }
      ]
    },
    {
      "cell_type": "markdown",
      "metadata": {
        "id": "rQVEsrdFlltI"
      },
      "source": [
        "Agora que temos todas as informações necessárias, podemos usar a biblioteca `seaborn` para plotar um `countplot` e nos mostrar em qual dia da semana recebemos mais e-mails."
      ]
    },
    {
      "cell_type": "code",
      "metadata": {
        "id": "Dc_40UHj76eC",
        "colab": {
          "base_uri": "https://localhost:8080/",
          "height": 279
        },
        "outputId": "1fac8098-1248-4f59-dd83-27a44998be52"
      },
      "source": [
        "# plotando o countplot\n",
        "sns.countplot(df[\"weekday\"], order=[\"Segunda\", \"Terça\", \"Quarta\", \"Quinta\", \"Sexta\", \"Sábado\", \"Domingo\"]);"
      ],
      "execution_count": null,
      "outputs": [
        {
          "output_type": "display_data",
          "data": {
            "image/png": "[encoded data removed]",
            "text/plain": [
              "<Figure size 432x288 with 1 Axes>"
            ]
          },
          "metadata": {
            "tags": [],
            "needs_background": "light"
          }
        }
      ]
    },
    {
      "cell_type": "markdown",
      "metadata": {
        "id": "XALg4Oetm614"
      },
      "source": [
        "Agora já sabemos que a **Segunda-Feira** traz um volume maior de e-mails do que qualquer outro dia da semana. Mas qual será o horário que mais recebemos e-mails?\n",
        "\n",
        "Podemos fazer um processo parecido com o que fizemos de dias da semana para criar uma variável que nos indica a hora em que o e-mail foi recebido.\n",
        "\n",
        "Assim, conseguimos fazer uma análise sememlhante à que fizemos sobre os dias."
      ]
    },
    {
      "cell_type": "code",
      "metadata": {
        "id": "3N1XDDTs9DCQ"
      },
      "source": [
        "# coletando as horas\n",
        "df[\"hora\"] = df[\"date\"].dt.hour"
      ],
      "execution_count": null,
      "outputs": []
    },
    {
      "cell_type": "code",
      "metadata": {
        "id": "20mCExyz77IA",
        "colab": {
          "base_uri": "https://localhost:8080/",
          "height": 204
        },
        "outputId": "9fa3f1de-b74b-4905-fe10-d26adb9c1522"
      },
      "source": [
        "# verificando o resultado\n",
        "df.head()"
      ],
      "execution_count": null,
      "outputs": [
        {
          "output_type": "execute_result",
          "data": {
            "text/html": [
              "<div>\n",
              "<style scoped>\n",
              "    .dataframe tbody tr th:only-of-type {\n",
              "        vertical-align: middle;\n",
              "    }\n",
              "\n",
              "    .dataframe tbody tr th {\n",
              "        vertical-align: top;\n",
              "    }\n",
              "\n",
              "    .dataframe thead th {\n",
              "        text-align: right;\n",
              "    }\n",
              "</style>\n",
              "<table border=\"1\" class=\"dataframe\">\n",
              "  <thead>\n",
              "    <tr style=\"text-align: right;\">\n",
              "      <th></th>\n",
              "      <th>date</th>\n",
              "      <th>from</th>\n",
              "      <th>to</th>\n",
              "      <th>subject</th>\n",
              "      <th>labels</th>\n",
              "      <th>weekday</th>\n",
              "      <th>hora</th>\n",
              "    </tr>\n",
              "  </thead>\n",
              "  <tbody>\n",
              "    <tr>\n",
              "      <th>0</th>\n",
              "      <td>2020-09-10 08:15:52-03:00</td>\n",
              "      <td>invitations@linkedin.com</td>\n",
              "      <td>carlos@sigmoidal.ai</td>\n",
              "      <td>Mario gostaria de fazer parte da sua rede</td>\n",
              "      <td>Caixa_de_entrada</td>\n",
              "      <td>Quinta</td>\n",
              "      <td>8</td>\n",
              "    </tr>\n",
              "    <tr>\n",
              "      <th>1</th>\n",
              "      <td>2020-09-09 18:56:45-03:00</td>\n",
              "      <td>no-reply@m.mail.coursera.org</td>\n",
              "      <td>carlos@sigmoidal.ai</td>\n",
              "      <td>=?utf-8?B?U2VwdGVtYmVyIDIwMjAgTmV3c2xldHRlciDi...</td>\n",
              "      <td>Caixa_de_entrada</td>\n",
              "      <td>Quarta</td>\n",
              "      <td>18</td>\n",
              "    </tr>\n",
              "    <tr>\n",
              "      <th>2</th>\n",
              "      <td>2020-09-13 08:40:00-03:00</td>\n",
              "      <td>noreply@medium.com</td>\n",
              "      <td>carlos@sigmoidal.ai</td>\n",
              "      <td>The Housing Market is Heading for a Cliff | Ro...</td>\n",
              "      <td>Caixa_de_entrada</td>\n",
              "      <td>Domingo</td>\n",
              "      <td>8</td>\n",
              "    </tr>\n",
              "    <tr>\n",
              "      <th>3</th>\n",
              "      <td>2020-09-08 12:30:54-03:00</td>\n",
              "      <td>no-reply@vimeo.com</td>\n",
              "      <td>carlos@sigmoidal.ai</td>\n",
              "      <td>Rafael Duarte uploaded a video to your Vimeo a...</td>\n",
              "      <td>Lixeira</td>\n",
              "      <td>Terça</td>\n",
              "      <td>12</td>\n",
              "    </tr>\n",
              "    <tr>\n",
              "      <th>4</th>\n",
              "      <td>2020-09-08 23:23:56-03:00</td>\n",
              "      <td>info@rdstation.com.br</td>\n",
              "      <td>carlos@sigmoidal.ai</td>\n",
              "      <td>[Novo lead] Caique Filipini - http://sigmoidal.ai</td>\n",
              "      <td>Arquivada</td>\n",
              "      <td>Terça</td>\n",
              "      <td>23</td>\n",
              "    </tr>\n",
              "  </tbody>\n",
              "</table>\n",
              "</div>"
            ],
            "text/plain": [
              "                       date                          from  ...  weekday hora\n",
              "0 2020-09-10 08:15:52-03:00      invitations@linkedin.com  ...   Quinta    8\n",
              "1 2020-09-09 18:56:45-03:00  no-reply@m.mail.coursera.org  ...   Quarta   18\n",
              "2 2020-09-13 08:40:00-03:00            noreply@medium.com  ...  Domingo    8\n",
              "3 2020-09-08 12:30:54-03:00            no-reply@vimeo.com  ...    Terça   12\n",
              "4 2020-09-08 23:23:56-03:00         info@rdstation.com.br  ...    Terça   23\n",
              "\n",
              "[5 rows x 7 columns]"
            ]
          },
          "metadata": {
            "tags": []
          },
          "execution_count": 58
        }
      ]
    },
    {
      "cell_type": "markdown",
      "metadata": {
        "id": "wa8D36RHns71"
      },
      "source": [
        "Pronto! Agora basta plotar um countplot, como fizemos anteriormente."
      ]
    },
    {
      "cell_type": "code",
      "metadata": {
        "id": "Ad_KeXwF_N4l",
        "colab": {
          "base_uri": "https://localhost:8080/",
          "height": 279
        },
        "outputId": "2d65a2e6-0574-4b00-f3ce-8649d4be7e1c"
      },
      "source": [
        "# plotando o gráfico\n",
        "sns.countplot(df[\"hora\"]);"
      ],
      "execution_count": null,
      "outputs": [
        {
          "output_type": "display_data",
          "data": {
            "image/png": "[encoded data removed]",
            "text/plain": [
              "<Figure size 432x288 with 1 Axes>"
            ]
          },
          "metadata": {
            "tags": [],
            "needs_background": "light"
          }
        }
      ]
    },
    {
      "cell_type": "markdown",
      "metadata": {
        "id": "1jd0M94TW7i9"
      },
      "source": [
        "**One more thing... exportando para Excel!**\n",
        "\n"
      ]
    },
    {
      "cell_type": "code",
      "metadata": {
        "id": "3BpS2fx6XBNi"
      },
      "source": [
        "# converter para formato de data que o Excel aceita\n",
        "df['date'] = df['date'].apply(lambda a: pd.to_datetime(a).date()) "
      ],
      "execution_count": null,
      "outputs": []
    },
    {
      "cell_type": "code",
      "metadata": {
        "id": "ei7rAKXMa-Fy"
      },
      "source": [
        "df.to_excel(\"meu_gmail.xlsx\", index=False)"
      ],
      "execution_count": null,
      "outputs": []
    },
    {
      "cell_type": "markdown",
      "metadata": {
        "id": "DNLyXudO_ktt"
      },
      "source": [
        "## [EXTRA] Word Clouds\n",
        "<center><img width=\"50%\" src=\"https://sigmoidal.ai/wp-content/uploads/2019/10/wordcloud_python-2-1024x576-min-1024x576.png\"></center>\n",
        "\n",
        "Aqui, vamos mostrar uma outra possibilidade que trabalhar com palavras nos proporciona. É possível criar `Word Clouds`, ou nuvens de palavras, em tradução livre.\n",
        "\n",
        "Esse tipo de visualização nos ajuda a entender melhor um conjunto de palavras, e pode ser uma poderosa ferramenta de visualização.\n",
        "\n",
        "A intenção nesse notebook não é de fazer um tutorial completo sobre wordclouds, e sim apenas mostrar o potencial desse tipo de visualização, e incentivar você a ir além, pensar fora da caixa, e buscar formas diferentes de analisar e apresentar suas análises.\n",
        "\n",
        "Caso você queira um tutorial completo sobre o que são, como funciona e como implementar word clouds, no Sigmoidal já fizemos um artigo com vídeo mostrando tudo! Basta clicar [aqui](https://sigmoidal.ai/como-criar-uma-wordcloud-em-python/) para acessar.\n",
        "\n"
      ]
    },
    {
      "cell_type": "code",
      "metadata": {
        "id": "N_Taqm-2_TaF"
      },
      "source": [
        "# importando os pacotes\n",
        "from wordcloud import WordCloud, STOPWORDS, ImageColorGenerator"
      ],
      "execution_count": null,
      "outputs": []
    },
    {
      "cell_type": "code",
      "metadata": {
        "id": "7V8Hzta-_gJX",
        "colab": {
          "base_uri": "https://localhost:8080/",
          "height": 310
        },
        "outputId": "a9db1aee-b6a8-4606-e85b-f81ba226df6c"
      },
      "source": [
        "# criando a wordcloud\n",
        "summary = df['subject']\n",
        "\n",
        "all_summary = \" \".join(s for s in summary)\n",
        " \n",
        "# lista de stopword\n",
        "stopwords = set(STOPWORDS)\n",
        "stopwords.update([\"da\", \"meu\", \"em\", \"você\", \"de\", \"ao\", \"os\", \"ai\", \"UTF\", \"_http\", \"hotmail\", \"gmail\"])\n",
        " \n",
        "# gerar uma wordcloud\n",
        "wordcloud = WordCloud(stopwords=stopwords,\n",
        "                      background_color=\"black\",\n",
        "                      width=1600, height=800).generate(all_summary)\n",
        " \n",
        "# mostrar a imagem final\n",
        "fig, ax = plt.subplots(figsize=(10,6))\n",
        "ax.imshow(wordcloud, interpolation='bilinear')\n",
        "ax.set_axis_off()\n",
        " \n",
        "plt.imshow(wordcloud);"
      ],
      "execution_count": null,
      "outputs": [
        {
          "output_type": "display_data",
          "data": {
            "image/png": "[encoded data removed]",
            "text/plain": [
              "<Figure size 720x432 with 1 Axes>"
            ]
          },
          "metadata": {
            "tags": [],
            "needs_background": "light"
          }
        }
      ]
    },
    {
      "cell_type": "markdown",
      "metadata": {
        "id": "MlTzWYlorkpF"
      },
      "source": [
        "Aqui, o intuito foi apenas mostrar a possibilidade. Existem muitas coisas que podem ser melhoradas, tratamento mais fino de stopwords, uso de máscaras, muitas possibilidades.\n",
        "\n",
        "Se você ficou interessado, não deixe de acessar o [tutorial completo](https://sigmoidal.ai/como-criar-uma-wordcloud-em-python/)."
      ]
    },
    {
      "cell_type": "code",
      "metadata": {
        "id": "ImocuzwN_5lp"
      },
      "source": [],
      "execution_count": null,
      "outputs": []
    }
  ]
}